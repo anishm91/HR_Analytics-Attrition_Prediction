{
  "nbformat": 4,
  "nbformat_minor": 0,
  "metadata": {
    "colab": {
      "name": "Attrition Project.ipynb",
      "version": "0.3.2",
      "provenance": [],
      "collapsed_sections": [
        "KP4mxxBkR_GW",
        "fCJHve7z2UbS",
        "LGb1AyVLPr9m",
        "8KlaKA0-Rv8g"
      ],
      "include_colab_link": true
    },
    "kernelspec": {
      "name": "python3",
      "display_name": "Python 3"
    },
    "accelerator": "GPU"
  },
  "cells": [
    {
      "cell_type": "markdown",
      "metadata": {
        "id": "view-in-github",
        "colab_type": "text"
      },
      "source": [
        "<a href=\"https://colab.research.google.com/github/anishm91/HR_Analytics-Attrition_Prediction/blob/master/Attrition_Project.ipynb\" target=\"_parent\"><img src=\"https://colab.research.google.com/assets/colab-badge.svg\" alt=\"Open In Colab\"/></a>"
      ]
    },
    {
      "metadata": {
        "id": "KP4mxxBkR_GW",
        "colab_type": "text"
      },
      "cell_type": "markdown",
      "source": [
        "# Getting the Data from Google Drive:"
      ]
    },
    {
      "metadata": {
        "id": "aKG6T5PVCvpL",
        "colab_type": "code",
        "outputId": "8aa74d35-8c2d-4451-c188-0b9f92363a21",
        "colab": {
          "base_uri": "https://localhost:8080/",
          "height": 50
        }
      },
      "cell_type": "code",
      "source": [
        "!pip install -U -q PyDrive\n",
        "from pydrive.auth import GoogleAuth\n",
        "from pydrive.drive import GoogleDrive\n",
        "from google.colab import auth\n",
        "from oauth2client.client import GoogleCredentials\n",
        "# Authenticate and create the PyDrive client.\n",
        "auth.authenticate_user()\n",
        "gauth = GoogleAuth()\n",
        "gauth.credentials = GoogleCredentials.get_application_default()\n",
        "drive = GoogleDrive(gauth)"
      ],
      "execution_count": 1,
      "outputs": [
        {
          "output_type": "stream",
          "text": [
            "\u001b[?25l\r\u001b[K    1% |▎                               | 10kB 25.4MB/s eta 0:00:01\r\u001b[K    2% |▋                               | 20kB 2.1MB/s eta 0:00:01\r\u001b[K    3% |█                               | 30kB 3.1MB/s eta 0:00:01\r\u001b[K    4% |█▎                              | 40kB 2.0MB/s eta 0:00:01\r\u001b[K    5% |█▋                              | 51kB 2.5MB/s eta 0:00:01\r\u001b[K    6% |██                              | 61kB 3.0MB/s eta 0:00:01\r\u001b[K    7% |██▎                             | 71kB 3.5MB/s eta 0:00:01\r\u001b[K    8% |██▋                             | 81kB 3.9MB/s eta 0:00:01\r\u001b[K    9% |███                             | 92kB 4.4MB/s eta 0:00:01\r\u001b[K    10% |███▎                            | 102kB 3.3MB/s eta 0:00:01\r\u001b[K    11% |███▋                            | 112kB 3.4MB/s eta 0:00:01\r\u001b[K    12% |████                            | 122kB 4.8MB/s eta 0:00:01\r\u001b[K    13% |████▎                           | 133kB 4.8MB/s eta 0:00:01\r\u001b[K    14% |████▋                           | 143kB 9.1MB/s eta 0:00:01\r\u001b[K    15% |█████                           | 153kB 9.1MB/s eta 0:00:01\r\u001b[K    16% |█████▎                          | 163kB 9.1MB/s eta 0:00:01\r\u001b[K    17% |█████▋                          | 174kB 9.1MB/s eta 0:00:01\r\u001b[K    18% |██████                          | 184kB 9.2MB/s eta 0:00:01\r\u001b[K    19% |██████▎                         | 194kB 9.2MB/s eta 0:00:01\r\u001b[K    20% |██████▋                         | 204kB 52.7MB/s eta 0:00:01\r\u001b[K    21% |███████                         | 215kB 10.1MB/s eta 0:00:01\r\u001b[K    22% |███████▎                        | 225kB 10.0MB/s eta 0:00:01\r\u001b[K    23% |███████▋                        | 235kB 10.1MB/s eta 0:00:01\r\u001b[K    24% |████████                        | 245kB 10.1MB/s eta 0:00:01\r\u001b[K    25% |████████▎                       | 256kB 10.1MB/s eta 0:00:01\r\u001b[K    26% |████████▋                       | 266kB 9.8MB/s eta 0:00:01\r\u001b[K    27% |█████████                       | 276kB 9.9MB/s eta 0:00:01\r\u001b[K    29% |█████████▎                      | 286kB 9.9MB/s eta 0:00:01\r\u001b[K    30% |█████████▋                      | 296kB 9.9MB/s eta 0:00:01\r\u001b[K    31% |██████████                      | 307kB 10.1MB/s eta 0:00:01\r\u001b[K    32% |██████████▎                     | 317kB 55.2MB/s eta 0:00:01\r\u001b[K    33% |██████████▋                     | 327kB 55.9MB/s eta 0:00:01\r\u001b[K    34% |███████████                     | 337kB 57.9MB/s eta 0:00:01\r\u001b[K    35% |███████████▎                    | 348kB 51.3MB/s eta 0:00:01\r\u001b[K    36% |███████████▋                    | 358kB 51.0MB/s eta 0:00:01\r\u001b[K    37% |████████████                    | 368kB 59.3MB/s eta 0:00:01\r\u001b[K    38% |████████████▎                   | 378kB 59.4MB/s eta 0:00:01\r\u001b[K    39% |████████████▋                   | 389kB 59.8MB/s eta 0:00:01\r\u001b[K    40% |█████████████                   | 399kB 11.3MB/s eta 0:00:01\r\u001b[K    41% |█████████████▎                  | 409kB 11.2MB/s eta 0:00:01\r\u001b[K    42% |█████████████▋                  | 419kB 11.2MB/s eta 0:00:01\r\u001b[K    43% |██████████████                  | 430kB 11.2MB/s eta 0:00:01\r\u001b[K    44% |██████████████▎                 | 440kB 11.2MB/s eta 0:00:01\r\u001b[K    45% |██████████████▋                 | 450kB 11.3MB/s eta 0:00:01\r\u001b[K    46% |███████████████                 | 460kB 11.2MB/s eta 0:00:01\r\u001b[K    47% |███████████████▎                | 471kB 11.3MB/s eta 0:00:01\r\u001b[K    48% |███████████████▋                | 481kB 11.3MB/s eta 0:00:01\r\u001b[K    49% |████████████████                | 491kB 11.3MB/s eta 0:00:01\r\u001b[K    50% |████████████████▎               | 501kB 59.6MB/s eta 0:00:01\r\u001b[K    51% |████████████████▋               | 512kB 58.6MB/s eta 0:00:01\r\u001b[K    52% |█████████████████               | 522kB 59.2MB/s eta 0:00:01\r\u001b[K    53% |█████████████████▎              | 532kB 59.8MB/s eta 0:00:01\r\u001b[K    54% |█████████████████▋              | 542kB 59.6MB/s eta 0:00:01\r\u001b[K    55% |██████████████████              | 552kB 66.9MB/s eta 0:00:01\r\u001b[K    57% |██████████████████▎             | 563kB 67.7MB/s eta 0:00:01\r\u001b[K    58% |██████████████████▋             | 573kB 66.1MB/s eta 0:00:01\r\u001b[K    59% |███████████████████             | 583kB 66.0MB/s eta 0:00:01\r\u001b[K    60% |███████████████████▎            | 593kB 65.0MB/s eta 0:00:01\r\u001b[K    61% |███████████████████▋            | 604kB 65.3MB/s eta 0:00:01\r\u001b[K    62% |████████████████████            | 614kB 70.2MB/s eta 0:00:01\r\u001b[K    63% |████████████████████▎           | 624kB 70.1MB/s eta 0:00:01\r\u001b[K    64% |████████████████████▋           | 634kB 69.2MB/s eta 0:00:01\r\u001b[K    65% |█████████████████████           | 645kB 69.3MB/s eta 0:00:01\r\u001b[K    66% |█████████████████████▎          | 655kB 67.8MB/s eta 0:00:01\r\u001b[K    67% |█████████████████████▋          | 665kB 51.8MB/s eta 0:00:01\r\u001b[K    68% |██████████████████████          | 675kB 13.6MB/s eta 0:00:01\r\u001b[K    69% |██████████████████████▎         | 686kB 13.5MB/s eta 0:00:01\r\u001b[K    70% |██████████████████████▋         | 696kB 13.4MB/s eta 0:00:01\r\u001b[K    71% |███████████████████████         | 706kB 13.3MB/s eta 0:00:01\r\u001b[K    72% |███████████████████████▎        | 716kB 13.4MB/s eta 0:00:01\r\u001b[K    73% |███████████████████████▋        | 727kB 13.4MB/s eta 0:00:01\r\u001b[K    74% |████████████████████████        | 737kB 13.3MB/s eta 0:00:01\r\u001b[K    75% |████████████████████████▎       | 747kB 13.4MB/s eta 0:00:01\r\u001b[K    76% |████████████████████████▋       | 757kB 13.3MB/s eta 0:00:01\r\u001b[K    77% |████████████████████████▉       | 768kB 14.2MB/s eta 0:00:01\r\u001b[K    78% |█████████████████████████▏      | 778kB 62.4MB/s eta 0:00:01\r\u001b[K    79% |█████████████████████████▌      | 788kB 64.1MB/s eta 0:00:01\r\u001b[K    80% |█████████████████████████▉      | 798kB 66.3MB/s eta 0:00:01\r\u001b[K    81% |██████████████████████████▏     | 808kB 66.0MB/s eta 0:00:01\r\u001b[K    82% |██████████████████████████▌     | 819kB 64.4MB/s eta 0:00:01\r\u001b[K    83% |██████████████████████████▉     | 829kB 64.7MB/s eta 0:00:01\r\u001b[K    85% |███████████████████████████▏    | 839kB 65.1MB/s eta 0:00:01\r\u001b[K    86% |███████████████████████████▌    | 849kB 64.7MB/s eta 0:00:01\r\u001b[K    87% |███████████████████████████▉    | 860kB 57.6MB/s eta 0:00:01\r\u001b[K    88% |████████████████████████████▏   | 870kB 56.9MB/s eta 0:00:01\r\u001b[K    89% |████████████████████████████▌   | 880kB 57.9MB/s eta 0:00:01\r\u001b[K    90% |████████████████████████████▉   | 890kB 59.2MB/s eta 0:00:01\r\u001b[K    91% |█████████████████████████████▏  | 901kB 60.2MB/s eta 0:00:01\r\u001b[K    92% |█████████████████████████████▌  | 911kB 61.6MB/s eta 0:00:01\r\u001b[K    93% |█████████████████████████████▉  | 921kB 62.9MB/s eta 0:00:01\r\u001b[K    94% |██████████████████████████████▏ | 931kB 62.9MB/s eta 0:00:01\r\u001b[K    95% |██████████████████████████████▌ | 942kB 63.7MB/s eta 0:00:01\r\u001b[K    96% |██████████████████████████████▉ | 952kB 63.2MB/s eta 0:00:01\r\u001b[K    97% |███████████████████████████████▏| 962kB 73.5MB/s eta 0:00:01\r\u001b[K    98% |███████████████████████████████▌| 972kB 74.7MB/s eta 0:00:01\r\u001b[K    99% |███████████████████████████████▉| 983kB 73.2MB/s eta 0:00:01\r\u001b[K    100% |████████████████████████████████| 993kB 23.8MB/s \n",
            "\u001b[?25h  Building wheel for PyDrive (setup.py) ... \u001b[?25ldone\n",
            "\u001b[?25h"
          ],
          "name": "stdout"
        }
      ]
    },
    {
      "metadata": {
        "id": "PyEUL8JQDYyv",
        "colab_type": "code",
        "colab": {}
      },
      "cell_type": "code",
      "source": [
        "link = 'https://drive.google.com/open?id=1LGzFPZ5AEVFRWjr2OKiZLNDzf4zwX5GV'\n",
        "\n",
        "fluff, id = link.split('=')\n",
        "\n",
        "downloaded = drive.CreateFile({'id':id}) \n",
        "downloaded.GetContentFile('HR.xlsx') "
      ],
      "execution_count": 0,
      "outputs": []
    },
    {
      "metadata": {
        "id": "fCJHve7z2UbS",
        "colab_type": "text"
      },
      "cell_type": "markdown",
      "source": [
        "#**Import Libraries**"
      ]
    },
    {
      "metadata": {
        "id": "4uKBrXqM2amb",
        "colab_type": "code",
        "colab": {}
      },
      "cell_type": "code",
      "source": [
        "import pandas as pd\n",
        "import numpy as np\n",
        "import matplotlib.pyplot as plt\n",
        "import seaborn as sns\n",
        "pd.options.display.max_columns = 99"
      ],
      "execution_count": 0,
      "outputs": []
    },
    {
      "metadata": {
        "id": "LGb1AyVLPr9m",
        "colab_type": "text"
      },
      "cell_type": "markdown",
      "source": [
        "#** Load Data**"
      ]
    },
    {
      "metadata": {
        "id": "2-0gKmeIDtyI",
        "colab_type": "code",
        "colab": {}
      },
      "cell_type": "code",
      "source": [
        "df = pd.read_excel('HR.xlsx',sheet_name = 'WA_Fn-UseC_-HR-Employee-Attriti')"
      ],
      "execution_count": 0,
      "outputs": []
    },
    {
      "metadata": {
        "id": "pDo0SxMd5MMm",
        "colab_type": "code",
        "outputId": "af6f8e0e-8546-45c6-a3a2-cabf13d0b75b",
        "colab": {
          "base_uri": "https://localhost:8080/",
          "height": 114
        }
      },
      "cell_type": "code",
      "source": [
        "df.head(1)"
      ],
      "execution_count": 5,
      "outputs": [
        {
          "output_type": "execute_result",
          "data": {
            "text/html": [
              "<div>\n",
              "<style scoped>\n",
              "    .dataframe tbody tr th:only-of-type {\n",
              "        vertical-align: middle;\n",
              "    }\n",
              "\n",
              "    .dataframe tbody tr th {\n",
              "        vertical-align: top;\n",
              "    }\n",
              "\n",
              "    .dataframe thead th {\n",
              "        text-align: right;\n",
              "    }\n",
              "</style>\n",
              "<table border=\"1\" class=\"dataframe\">\n",
              "  <thead>\n",
              "    <tr style=\"text-align: right;\">\n",
              "      <th></th>\n",
              "      <th>Age</th>\n",
              "      <th>Attrition</th>\n",
              "      <th>BusinessTravel</th>\n",
              "      <th>DailyRate</th>\n",
              "      <th>Department</th>\n",
              "      <th>DistanceFromHome</th>\n",
              "      <th>Education</th>\n",
              "      <th>EducationField</th>\n",
              "      <th>EmployeeCount</th>\n",
              "      <th>EmployeeNumber</th>\n",
              "      <th>EnvironmentSatisfaction</th>\n",
              "      <th>Gender</th>\n",
              "      <th>HourlyRate</th>\n",
              "      <th>JobInvolvement</th>\n",
              "      <th>JobLevel</th>\n",
              "      <th>JobRole</th>\n",
              "      <th>JobSatisfaction</th>\n",
              "      <th>MaritalStatus</th>\n",
              "      <th>MonthlyIncome</th>\n",
              "      <th>MonthlyRate</th>\n",
              "      <th>NumCompaniesWorked</th>\n",
              "      <th>Over18</th>\n",
              "      <th>OverTime</th>\n",
              "      <th>PercentSalaryHike</th>\n",
              "      <th>PerformanceRating</th>\n",
              "      <th>RelationshipSatisfaction</th>\n",
              "      <th>StandardHours</th>\n",
              "      <th>StockOptionLevel</th>\n",
              "      <th>TotalWorkingYears</th>\n",
              "      <th>TrainingTimesLastYear</th>\n",
              "      <th>WorkLifeBalance</th>\n",
              "      <th>YearsAtCompany</th>\n",
              "      <th>YearsInCurrentRole</th>\n",
              "      <th>YearsSinceLastPromotion</th>\n",
              "      <th>YearsWithCurrManager</th>\n",
              "    </tr>\n",
              "  </thead>\n",
              "  <tbody>\n",
              "    <tr>\n",
              "      <th>0</th>\n",
              "      <td>41</td>\n",
              "      <td>Yes</td>\n",
              "      <td>Travel_Rarely</td>\n",
              "      <td>1102</td>\n",
              "      <td>Sales</td>\n",
              "      <td>1</td>\n",
              "      <td>2</td>\n",
              "      <td>Life Sciences</td>\n",
              "      <td>1</td>\n",
              "      <td>1</td>\n",
              "      <td>2</td>\n",
              "      <td>Female</td>\n",
              "      <td>94</td>\n",
              "      <td>3</td>\n",
              "      <td>2</td>\n",
              "      <td>Sales Executive</td>\n",
              "      <td>4</td>\n",
              "      <td>Single</td>\n",
              "      <td>5993</td>\n",
              "      <td>19479</td>\n",
              "      <td>8</td>\n",
              "      <td>Y</td>\n",
              "      <td>Yes</td>\n",
              "      <td>11</td>\n",
              "      <td>3</td>\n",
              "      <td>1</td>\n",
              "      <td>80</td>\n",
              "      <td>0</td>\n",
              "      <td>8</td>\n",
              "      <td>0</td>\n",
              "      <td>1</td>\n",
              "      <td>6</td>\n",
              "      <td>4</td>\n",
              "      <td>0</td>\n",
              "      <td>5</td>\n",
              "    </tr>\n",
              "  </tbody>\n",
              "</table>\n",
              "</div>"
            ],
            "text/plain": [
              "   Age Attrition BusinessTravel  DailyRate Department  DistanceFromHome  \\\n",
              "0   41       Yes  Travel_Rarely       1102      Sales                 1   \n",
              "\n",
              "   Education EducationField  EmployeeCount  EmployeeNumber  \\\n",
              "0          2  Life Sciences              1               1   \n",
              "\n",
              "   EnvironmentSatisfaction  Gender  HourlyRate  JobInvolvement  JobLevel  \\\n",
              "0                        2  Female          94               3         2   \n",
              "\n",
              "           JobRole  JobSatisfaction MaritalStatus  MonthlyIncome  MonthlyRate  \\\n",
              "0  Sales Executive                4        Single           5993        19479   \n",
              "\n",
              "   NumCompaniesWorked Over18 OverTime  PercentSalaryHike  PerformanceRating  \\\n",
              "0                   8      Y      Yes                 11                  3   \n",
              "\n",
              "   RelationshipSatisfaction  StandardHours  StockOptionLevel  \\\n",
              "0                         1             80                 0   \n",
              "\n",
              "   TotalWorkingYears  TrainingTimesLastYear  WorkLifeBalance  YearsAtCompany  \\\n",
              "0                  8                      0                1               6   \n",
              "\n",
              "   YearsInCurrentRole  YearsSinceLastPromotion  YearsWithCurrManager  \n",
              "0                   4                        0                     5  "
            ]
          },
          "metadata": {
            "tags": []
          },
          "execution_count": 5
        }
      ]
    },
    {
      "metadata": {
        "id": "jA7aNiL9ZTIw",
        "colab_type": "code",
        "outputId": "b84b758f-6cb3-45a9-8b28-fcf550aa7868",
        "colab": {
          "base_uri": "https://localhost:8080/",
          "height": 34
        }
      },
      "cell_type": "code",
      "source": [
        "df.shape"
      ],
      "execution_count": 6,
      "outputs": [
        {
          "output_type": "execute_result",
          "data": {
            "text/plain": [
              "(1470, 35)"
            ]
          },
          "metadata": {
            "tags": []
          },
          "execution_count": 6
        }
      ]
    },
    {
      "metadata": {
        "id": "52WMSyVdIeNW",
        "colab_type": "code",
        "outputId": "8426a5bb-e1cd-46eb-d6bb-7dea984611de",
        "colab": {
          "base_uri": "https://localhost:8080/",
          "height": 202
        }
      },
      "cell_type": "code",
      "source": [
        "df.columns"
      ],
      "execution_count": 7,
      "outputs": [
        {
          "output_type": "execute_result",
          "data": {
            "text/plain": [
              "Index(['Age', 'Attrition', 'BusinessTravel', 'DailyRate', 'Department',\n",
              "       'DistanceFromHome', 'Education', 'EducationField', 'EmployeeCount',\n",
              "       'EmployeeNumber', 'EnvironmentSatisfaction', 'Gender', 'HourlyRate',\n",
              "       'JobInvolvement', 'JobLevel', 'JobRole', 'JobSatisfaction',\n",
              "       'MaritalStatus', 'MonthlyIncome', 'MonthlyRate', 'NumCompaniesWorked',\n",
              "       'Over18', 'OverTime', 'PercentSalaryHike', 'PerformanceRating',\n",
              "       'RelationshipSatisfaction', 'StandardHours', 'StockOptionLevel',\n",
              "       'TotalWorkingYears', 'TrainingTimesLastYear', 'WorkLifeBalance',\n",
              "       'YearsAtCompany', 'YearsInCurrentRole', 'YearsSinceLastPromotion',\n",
              "       'YearsWithCurrManager'],\n",
              "      dtype='object')"
            ]
          },
          "metadata": {
            "tags": []
          },
          "execution_count": 7
        }
      ]
    },
    {
      "metadata": {
        "id": "jfvwOxMpI9Xb",
        "colab_type": "code",
        "colab": {}
      },
      "cell_type": "code",
      "source": [
        "#rearranging the columns with the target variable as the last column\n",
        "\n",
        "col_sequence = ['Age', 'BusinessTravel', 'DailyRate', 'Department',\n",
        "       'DistanceFromHome', 'Education', 'EducationField', 'EmployeeCount',\n",
        "       'EmployeeNumber', 'EnvironmentSatisfaction', 'Gender', 'HourlyRate',\n",
        "       'JobInvolvement', 'JobLevel', 'JobRole', 'JobSatisfaction',\n",
        "       'MaritalStatus', 'MonthlyIncome', 'MonthlyRate', 'NumCompaniesWorked',\n",
        "       'Over18', 'OverTime', 'PercentSalaryHike', 'PerformanceRating',\n",
        "       'RelationshipSatisfaction', 'StandardHours', 'StockOptionLevel',\n",
        "       'TotalWorkingYears', 'TrainingTimesLastYear', 'WorkLifeBalance',\n",
        "       'YearsAtCompany', 'YearsInCurrentRole', 'YearsSinceLastPromotion',\n",
        "       'YearsWithCurrManager', 'Attrition']"
      ],
      "execution_count": 0,
      "outputs": []
    },
    {
      "metadata": {
        "id": "TyveXRC2JLnU",
        "colab_type": "code",
        "colab": {}
      },
      "cell_type": "code",
      "source": [
        "df = df.reindex(columns=col_sequence)"
      ],
      "execution_count": 0,
      "outputs": []
    },
    {
      "metadata": {
        "id": "tvz8N7vnJdvZ",
        "colab_type": "code",
        "outputId": "2e5babba-8c88-4fc2-c676-82c87dd944af",
        "colab": {
          "base_uri": "https://localhost:8080/",
          "height": 299
        }
      },
      "cell_type": "code",
      "source": [
        "df.head()"
      ],
      "execution_count": 10,
      "outputs": [
        {
          "output_type": "execute_result",
          "data": {
            "text/html": [
              "<div>\n",
              "<style scoped>\n",
              "    .dataframe tbody tr th:only-of-type {\n",
              "        vertical-align: middle;\n",
              "    }\n",
              "\n",
              "    .dataframe tbody tr th {\n",
              "        vertical-align: top;\n",
              "    }\n",
              "\n",
              "    .dataframe thead th {\n",
              "        text-align: right;\n",
              "    }\n",
              "</style>\n",
              "<table border=\"1\" class=\"dataframe\">\n",
              "  <thead>\n",
              "    <tr style=\"text-align: right;\">\n",
              "      <th></th>\n",
              "      <th>Age</th>\n",
              "      <th>BusinessTravel</th>\n",
              "      <th>DailyRate</th>\n",
              "      <th>Department</th>\n",
              "      <th>DistanceFromHome</th>\n",
              "      <th>Education</th>\n",
              "      <th>EducationField</th>\n",
              "      <th>EmployeeCount</th>\n",
              "      <th>EmployeeNumber</th>\n",
              "      <th>EnvironmentSatisfaction</th>\n",
              "      <th>Gender</th>\n",
              "      <th>HourlyRate</th>\n",
              "      <th>JobInvolvement</th>\n",
              "      <th>JobLevel</th>\n",
              "      <th>JobRole</th>\n",
              "      <th>JobSatisfaction</th>\n",
              "      <th>MaritalStatus</th>\n",
              "      <th>MonthlyIncome</th>\n",
              "      <th>MonthlyRate</th>\n",
              "      <th>NumCompaniesWorked</th>\n",
              "      <th>Over18</th>\n",
              "      <th>OverTime</th>\n",
              "      <th>PercentSalaryHike</th>\n",
              "      <th>PerformanceRating</th>\n",
              "      <th>RelationshipSatisfaction</th>\n",
              "      <th>StandardHours</th>\n",
              "      <th>StockOptionLevel</th>\n",
              "      <th>TotalWorkingYears</th>\n",
              "      <th>TrainingTimesLastYear</th>\n",
              "      <th>WorkLifeBalance</th>\n",
              "      <th>YearsAtCompany</th>\n",
              "      <th>YearsInCurrentRole</th>\n",
              "      <th>YearsSinceLastPromotion</th>\n",
              "      <th>YearsWithCurrManager</th>\n",
              "      <th>Attrition</th>\n",
              "    </tr>\n",
              "  </thead>\n",
              "  <tbody>\n",
              "    <tr>\n",
              "      <th>0</th>\n",
              "      <td>41</td>\n",
              "      <td>Travel_Rarely</td>\n",
              "      <td>1102</td>\n",
              "      <td>Sales</td>\n",
              "      <td>1</td>\n",
              "      <td>2</td>\n",
              "      <td>Life Sciences</td>\n",
              "      <td>1</td>\n",
              "      <td>1</td>\n",
              "      <td>2</td>\n",
              "      <td>Female</td>\n",
              "      <td>94</td>\n",
              "      <td>3</td>\n",
              "      <td>2</td>\n",
              "      <td>Sales Executive</td>\n",
              "      <td>4</td>\n",
              "      <td>Single</td>\n",
              "      <td>5993</td>\n",
              "      <td>19479</td>\n",
              "      <td>8</td>\n",
              "      <td>Y</td>\n",
              "      <td>Yes</td>\n",
              "      <td>11</td>\n",
              "      <td>3</td>\n",
              "      <td>1</td>\n",
              "      <td>80</td>\n",
              "      <td>0</td>\n",
              "      <td>8</td>\n",
              "      <td>0</td>\n",
              "      <td>1</td>\n",
              "      <td>6</td>\n",
              "      <td>4</td>\n",
              "      <td>0</td>\n",
              "      <td>5</td>\n",
              "      <td>Yes</td>\n",
              "    </tr>\n",
              "    <tr>\n",
              "      <th>1</th>\n",
              "      <td>49</td>\n",
              "      <td>Travel_Frequently</td>\n",
              "      <td>279</td>\n",
              "      <td>Research &amp; Development</td>\n",
              "      <td>8</td>\n",
              "      <td>1</td>\n",
              "      <td>Life Sciences</td>\n",
              "      <td>1</td>\n",
              "      <td>2</td>\n",
              "      <td>3</td>\n",
              "      <td>Male</td>\n",
              "      <td>61</td>\n",
              "      <td>2</td>\n",
              "      <td>2</td>\n",
              "      <td>Research Scientist</td>\n",
              "      <td>2</td>\n",
              "      <td>Married</td>\n",
              "      <td>5130</td>\n",
              "      <td>24907</td>\n",
              "      <td>1</td>\n",
              "      <td>Y</td>\n",
              "      <td>No</td>\n",
              "      <td>23</td>\n",
              "      <td>4</td>\n",
              "      <td>4</td>\n",
              "      <td>80</td>\n",
              "      <td>1</td>\n",
              "      <td>10</td>\n",
              "      <td>3</td>\n",
              "      <td>3</td>\n",
              "      <td>10</td>\n",
              "      <td>7</td>\n",
              "      <td>1</td>\n",
              "      <td>7</td>\n",
              "      <td>No</td>\n",
              "    </tr>\n",
              "    <tr>\n",
              "      <th>2</th>\n",
              "      <td>37</td>\n",
              "      <td>Travel_Rarely</td>\n",
              "      <td>1373</td>\n",
              "      <td>Research &amp; Development</td>\n",
              "      <td>2</td>\n",
              "      <td>2</td>\n",
              "      <td>Other</td>\n",
              "      <td>1</td>\n",
              "      <td>4</td>\n",
              "      <td>4</td>\n",
              "      <td>Male</td>\n",
              "      <td>92</td>\n",
              "      <td>2</td>\n",
              "      <td>1</td>\n",
              "      <td>Laboratory Technician</td>\n",
              "      <td>3</td>\n",
              "      <td>Single</td>\n",
              "      <td>2090</td>\n",
              "      <td>2396</td>\n",
              "      <td>6</td>\n",
              "      <td>Y</td>\n",
              "      <td>Yes</td>\n",
              "      <td>15</td>\n",
              "      <td>3</td>\n",
              "      <td>2</td>\n",
              "      <td>80</td>\n",
              "      <td>0</td>\n",
              "      <td>7</td>\n",
              "      <td>3</td>\n",
              "      <td>3</td>\n",
              "      <td>0</td>\n",
              "      <td>0</td>\n",
              "      <td>0</td>\n",
              "      <td>0</td>\n",
              "      <td>Yes</td>\n",
              "    </tr>\n",
              "    <tr>\n",
              "      <th>3</th>\n",
              "      <td>33</td>\n",
              "      <td>Travel_Frequently</td>\n",
              "      <td>1392</td>\n",
              "      <td>Research &amp; Development</td>\n",
              "      <td>3</td>\n",
              "      <td>4</td>\n",
              "      <td>Life Sciences</td>\n",
              "      <td>1</td>\n",
              "      <td>5</td>\n",
              "      <td>4</td>\n",
              "      <td>Female</td>\n",
              "      <td>56</td>\n",
              "      <td>3</td>\n",
              "      <td>1</td>\n",
              "      <td>Research Scientist</td>\n",
              "      <td>3</td>\n",
              "      <td>Married</td>\n",
              "      <td>2909</td>\n",
              "      <td>23159</td>\n",
              "      <td>1</td>\n",
              "      <td>Y</td>\n",
              "      <td>Yes</td>\n",
              "      <td>11</td>\n",
              "      <td>3</td>\n",
              "      <td>3</td>\n",
              "      <td>80</td>\n",
              "      <td>0</td>\n",
              "      <td>8</td>\n",
              "      <td>3</td>\n",
              "      <td>3</td>\n",
              "      <td>8</td>\n",
              "      <td>7</td>\n",
              "      <td>3</td>\n",
              "      <td>0</td>\n",
              "      <td>No</td>\n",
              "    </tr>\n",
              "    <tr>\n",
              "      <th>4</th>\n",
              "      <td>27</td>\n",
              "      <td>Travel_Rarely</td>\n",
              "      <td>591</td>\n",
              "      <td>Research &amp; Development</td>\n",
              "      <td>2</td>\n",
              "      <td>1</td>\n",
              "      <td>Medical</td>\n",
              "      <td>1</td>\n",
              "      <td>7</td>\n",
              "      <td>1</td>\n",
              "      <td>Male</td>\n",
              "      <td>40</td>\n",
              "      <td>3</td>\n",
              "      <td>1</td>\n",
              "      <td>Laboratory Technician</td>\n",
              "      <td>2</td>\n",
              "      <td>Married</td>\n",
              "      <td>3468</td>\n",
              "      <td>16632</td>\n",
              "      <td>9</td>\n",
              "      <td>Y</td>\n",
              "      <td>No</td>\n",
              "      <td>12</td>\n",
              "      <td>3</td>\n",
              "      <td>4</td>\n",
              "      <td>80</td>\n",
              "      <td>1</td>\n",
              "      <td>6</td>\n",
              "      <td>3</td>\n",
              "      <td>3</td>\n",
              "      <td>2</td>\n",
              "      <td>2</td>\n",
              "      <td>2</td>\n",
              "      <td>2</td>\n",
              "      <td>No</td>\n",
              "    </tr>\n",
              "  </tbody>\n",
              "</table>\n",
              "</div>"
            ],
            "text/plain": [
              "   Age     BusinessTravel  DailyRate              Department  \\\n",
              "0   41      Travel_Rarely       1102                   Sales   \n",
              "1   49  Travel_Frequently        279  Research & Development   \n",
              "2   37      Travel_Rarely       1373  Research & Development   \n",
              "3   33  Travel_Frequently       1392  Research & Development   \n",
              "4   27      Travel_Rarely        591  Research & Development   \n",
              "\n",
              "   DistanceFromHome  Education EducationField  EmployeeCount  EmployeeNumber  \\\n",
              "0                 1          2  Life Sciences              1               1   \n",
              "1                 8          1  Life Sciences              1               2   \n",
              "2                 2          2          Other              1               4   \n",
              "3                 3          4  Life Sciences              1               5   \n",
              "4                 2          1        Medical              1               7   \n",
              "\n",
              "   EnvironmentSatisfaction  Gender  HourlyRate  JobInvolvement  JobLevel  \\\n",
              "0                        2  Female          94               3         2   \n",
              "1                        3    Male          61               2         2   \n",
              "2                        4    Male          92               2         1   \n",
              "3                        4  Female          56               3         1   \n",
              "4                        1    Male          40               3         1   \n",
              "\n",
              "                 JobRole  JobSatisfaction MaritalStatus  MonthlyIncome  \\\n",
              "0        Sales Executive                4        Single           5993   \n",
              "1     Research Scientist                2       Married           5130   \n",
              "2  Laboratory Technician                3        Single           2090   \n",
              "3     Research Scientist                3       Married           2909   \n",
              "4  Laboratory Technician                2       Married           3468   \n",
              "\n",
              "   MonthlyRate  NumCompaniesWorked Over18 OverTime  PercentSalaryHike  \\\n",
              "0        19479                   8      Y      Yes                 11   \n",
              "1        24907                   1      Y       No                 23   \n",
              "2         2396                   6      Y      Yes                 15   \n",
              "3        23159                   1      Y      Yes                 11   \n",
              "4        16632                   9      Y       No                 12   \n",
              "\n",
              "   PerformanceRating  RelationshipSatisfaction  StandardHours  \\\n",
              "0                  3                         1             80   \n",
              "1                  4                         4             80   \n",
              "2                  3                         2             80   \n",
              "3                  3                         3             80   \n",
              "4                  3                         4             80   \n",
              "\n",
              "   StockOptionLevel  TotalWorkingYears  TrainingTimesLastYear  \\\n",
              "0                 0                  8                      0   \n",
              "1                 1                 10                      3   \n",
              "2                 0                  7                      3   \n",
              "3                 0                  8                      3   \n",
              "4                 1                  6                      3   \n",
              "\n",
              "   WorkLifeBalance  YearsAtCompany  YearsInCurrentRole  \\\n",
              "0                1               6                   4   \n",
              "1                3              10                   7   \n",
              "2                3               0                   0   \n",
              "3                3               8                   7   \n",
              "4                3               2                   2   \n",
              "\n",
              "   YearsSinceLastPromotion  YearsWithCurrManager Attrition  \n",
              "0                        0                     5       Yes  \n",
              "1                        1                     7        No  \n",
              "2                        0                     0       Yes  \n",
              "3                        3                     0        No  \n",
              "4                        2                     2        No  "
            ]
          },
          "metadata": {
            "tags": []
          },
          "execution_count": 10
        }
      ]
    },
    {
      "metadata": {
        "id": "8KlaKA0-Rv8g",
        "colab_type": "text"
      },
      "cell_type": "markdown",
      "source": [
        "# Initial EDA and Pre-Processing:"
      ]
    },
    {
      "metadata": {
        "id": "l78T7Y2bPucx",
        "colab_type": "code",
        "outputId": "6a34237d-b35e-4d69-b7ba-a30a2ce3a77b",
        "colab": {
          "base_uri": "https://localhost:8080/",
          "height": 622
        }
      },
      "cell_type": "code",
      "source": [
        "#checking for NA values\n",
        "\n",
        "df.isnull().sum()"
      ],
      "execution_count": 11,
      "outputs": [
        {
          "output_type": "execute_result",
          "data": {
            "text/plain": [
              "Age                         0\n",
              "BusinessTravel              0\n",
              "DailyRate                   0\n",
              "Department                  0\n",
              "DistanceFromHome            0\n",
              "Education                   0\n",
              "EducationField              0\n",
              "EmployeeCount               0\n",
              "EmployeeNumber              0\n",
              "EnvironmentSatisfaction     0\n",
              "Gender                      0\n",
              "HourlyRate                  0\n",
              "JobInvolvement              0\n",
              "JobLevel                    0\n",
              "JobRole                     0\n",
              "JobSatisfaction             0\n",
              "MaritalStatus               0\n",
              "MonthlyIncome               0\n",
              "MonthlyRate                 0\n",
              "NumCompaniesWorked          0\n",
              "Over18                      0\n",
              "OverTime                    0\n",
              "PercentSalaryHike           0\n",
              "PerformanceRating           0\n",
              "RelationshipSatisfaction    0\n",
              "StandardHours               0\n",
              "StockOptionLevel            0\n",
              "TotalWorkingYears           0\n",
              "TrainingTimesLastYear       0\n",
              "WorkLifeBalance             0\n",
              "YearsAtCompany              0\n",
              "YearsInCurrentRole          0\n",
              "YearsSinceLastPromotion     0\n",
              "YearsWithCurrManager        0\n",
              "Attrition                   0\n",
              "dtype: int64"
            ]
          },
          "metadata": {
            "tags": []
          },
          "execution_count": 11
        }
      ]
    },
    {
      "metadata": {
        "id": "Tn0VIIZD-Ib0",
        "colab_type": "text"
      },
      "cell_type": "markdown",
      "source": [
        "let us look into the variables to determine which are numerical and which are categorical"
      ]
    },
    {
      "metadata": {
        "id": "TBiW1eD-KRVE",
        "colab_type": "code",
        "outputId": "78ee8ac0-ed7d-4028-f102-544c538c5949",
        "colab": {
          "base_uri": "https://localhost:8080/",
          "height": 3478
        }
      },
      "cell_type": "code",
      "source": [
        "for i in col_sequence:\n",
        "  if (df[i].value_counts()).agg('count') <= 20:\n",
        "    print (df[i].value_counts(dropna=False),'\\n')"
      ],
      "execution_count": 12,
      "outputs": [
        {
          "output_type": "stream",
          "text": [
            "Travel_Rarely        1043\n",
            "Travel_Frequently     277\n",
            "Non-Travel            150\n",
            "Name: BusinessTravel, dtype: int64 \n",
            "\n",
            "Research & Development    961\n",
            "Sales                     446\n",
            "Human Resources            63\n",
            "Name: Department, dtype: int64 \n",
            "\n",
            "3    572\n",
            "4    398\n",
            "2    282\n",
            "1    170\n",
            "5     48\n",
            "Name: Education, dtype: int64 \n",
            "\n",
            "Life Sciences       606\n",
            "Medical             464\n",
            "Marketing           159\n",
            "Technical Degree    132\n",
            "Other                82\n",
            "Human Resources      27\n",
            "Name: EducationField, dtype: int64 \n",
            "\n",
            "1    1470\n",
            "Name: EmployeeCount, dtype: int64 \n",
            "\n",
            "3    453\n",
            "4    446\n",
            "2    287\n",
            "1    284\n",
            "Name: EnvironmentSatisfaction, dtype: int64 \n",
            "\n",
            "Male      882\n",
            "Female    588\n",
            "Name: Gender, dtype: int64 \n",
            "\n",
            "3    868\n",
            "2    375\n",
            "4    144\n",
            "1     83\n",
            "Name: JobInvolvement, dtype: int64 \n",
            "\n",
            "1    543\n",
            "2    534\n",
            "3    218\n",
            "4    106\n",
            "5     69\n",
            "Name: JobLevel, dtype: int64 \n",
            "\n",
            "Sales Executive              326\n",
            "Research Scientist           292\n",
            "Laboratory Technician        259\n",
            "Manufacturing Director       145\n",
            "Healthcare Representative    131\n",
            "Manager                      102\n",
            "Sales Representative          83\n",
            "Research Director             80\n",
            "Human Resources               52\n",
            "Name: JobRole, dtype: int64 \n",
            "\n",
            "4    459\n",
            "3    442\n",
            "1    289\n",
            "2    280\n",
            "Name: JobSatisfaction, dtype: int64 \n",
            "\n",
            "Married     673\n",
            "Single      470\n",
            "Divorced    327\n",
            "Name: MaritalStatus, dtype: int64 \n",
            "\n",
            "1    521\n",
            "0    197\n",
            "3    159\n",
            "2    146\n",
            "4    139\n",
            "7     74\n",
            "6     70\n",
            "5     63\n",
            "9     52\n",
            "8     49\n",
            "Name: NumCompaniesWorked, dtype: int64 \n",
            "\n",
            "Y    1470\n",
            "Name: Over18, dtype: int64 \n",
            "\n",
            "No     1054\n",
            "Yes     416\n",
            "Name: OverTime, dtype: int64 \n",
            "\n",
            "11    210\n",
            "13    209\n",
            "14    201\n",
            "12    198\n",
            "15    101\n",
            "18     89\n",
            "17     82\n",
            "16     78\n",
            "19     76\n",
            "22     56\n",
            "20     55\n",
            "21     48\n",
            "23     28\n",
            "24     21\n",
            "25     18\n",
            "Name: PercentSalaryHike, dtype: int64 \n",
            "\n",
            "3    1244\n",
            "4     226\n",
            "Name: PerformanceRating, dtype: int64 \n",
            "\n",
            "3    459\n",
            "4    432\n",
            "2    303\n",
            "1    276\n",
            "Name: RelationshipSatisfaction, dtype: int64 \n",
            "\n",
            "80    1470\n",
            "Name: StandardHours, dtype: int64 \n",
            "\n",
            "0    631\n",
            "1    596\n",
            "2    158\n",
            "3     85\n",
            "Name: StockOptionLevel, dtype: int64 \n",
            "\n",
            "2    547\n",
            "3    491\n",
            "4    123\n",
            "5    119\n",
            "1     71\n",
            "6     65\n",
            "0     54\n",
            "Name: TrainingTimesLastYear, dtype: int64 \n",
            "\n",
            "3    893\n",
            "2    344\n",
            "4    153\n",
            "1     80\n",
            "Name: WorkLifeBalance, dtype: int64 \n",
            "\n",
            "2     372\n",
            "0     244\n",
            "7     222\n",
            "3     135\n",
            "4     104\n",
            "8      89\n",
            "9      67\n",
            "1      57\n",
            "6      37\n",
            "5      36\n",
            "10     29\n",
            "11     22\n",
            "13     14\n",
            "14     11\n",
            "12     10\n",
            "15      8\n",
            "16      7\n",
            "17      4\n",
            "18      2\n",
            "Name: YearsInCurrentRole, dtype: int64 \n",
            "\n",
            "0     581\n",
            "1     357\n",
            "2     159\n",
            "7      76\n",
            "4      61\n",
            "3      52\n",
            "5      45\n",
            "6      32\n",
            "11     24\n",
            "8      18\n",
            "9      17\n",
            "15     13\n",
            "13     10\n",
            "12     10\n",
            "14      9\n",
            "10      6\n",
            "Name: YearsSinceLastPromotion, dtype: int64 \n",
            "\n",
            "2     344\n",
            "0     263\n",
            "7     216\n",
            "3     142\n",
            "8     107\n",
            "4      98\n",
            "1      76\n",
            "9      64\n",
            "5      31\n",
            "6      29\n",
            "10     27\n",
            "11     22\n",
            "12     18\n",
            "13     14\n",
            "17      7\n",
            "14      5\n",
            "15      5\n",
            "16      2\n",
            "Name: YearsWithCurrManager, dtype: int64 \n",
            "\n",
            "No     1233\n",
            "Yes     237\n",
            "Name: Attrition, dtype: int64 \n",
            "\n"
          ],
          "name": "stdout"
        }
      ]
    },
    {
      "metadata": {
        "id": "jdJbare-M1zz",
        "colab_type": "text"
      },
      "cell_type": "markdown",
      "source": [
        "**three variables stand out above: Over18, StandardHours, and EmployeeCount. All 3 have same value for all rows, hence these variables are useless. So we drop them.\n",
        "Below we also see that the variable EmployeeNumber has all unique values (possibly it is an identification field). We drop this as well.**"
      ]
    },
    {
      "metadata": {
        "id": "IPvDLKcEAmIC",
        "colab_type": "text"
      },
      "cell_type": "markdown",
      "source": [
        "**2nd point of note is the number of records having \"Yes\" in the Attrition variable - 237 out of 1470 (16%). Thus our dataset is imbalanced and we need to handle it accordingly..**"
      ]
    },
    {
      "metadata": {
        "id": "MMwRXxEqPGTy",
        "colab_type": "code",
        "outputId": "96dfd234-a45f-4d22-fa71-8aa2def8bf75",
        "colab": {
          "base_uri": "https://localhost:8080/",
          "height": 319
        }
      },
      "cell_type": "code",
      "source": [
        "for i in col_sequence:\n",
        "  if (df[i].value_counts()).agg('count') > 20:\n",
        "    print (i,':',(df[i].value_counts()).agg('count'),'\\n')"
      ],
      "execution_count": 13,
      "outputs": [
        {
          "output_type": "stream",
          "text": [
            "Age : 43 \n",
            "\n",
            "DailyRate : 886 \n",
            "\n",
            "DistanceFromHome : 29 \n",
            "\n",
            "EmployeeNumber : 1470 \n",
            "\n",
            "HourlyRate : 71 \n",
            "\n",
            "MonthlyIncome : 1349 \n",
            "\n",
            "MonthlyRate : 1427 \n",
            "\n",
            "TotalWorkingYears : 40 \n",
            "\n",
            "YearsAtCompany : 37 \n",
            "\n"
          ],
          "name": "stdout"
        }
      ]
    },
    {
      "metadata": {
        "id": "HfiSSm8XN-8-",
        "colab_type": "code",
        "colab": {}
      },
      "cell_type": "code",
      "source": [
        "df.EmployeeNumber.value_counts(dropna=False)"
      ],
      "execution_count": 0,
      "outputs": []
    },
    {
      "metadata": {
        "id": "XLP4_3mfOhtO",
        "colab_type": "code",
        "colab": {}
      },
      "cell_type": "code",
      "source": [
        "df = df.drop(['EmployeeCount', 'EmployeeNumber', 'Over18', 'StandardHours'], axis=1)"
      ],
      "execution_count": 0,
      "outputs": []
    },
    {
      "metadata": {
        "id": "7kGFcDy4Zz4o",
        "colab_type": "code",
        "outputId": "8fea8f2a-bf4a-42d6-9759-6f1cd133f81c",
        "colab": {
          "base_uri": "https://localhost:8080/",
          "height": 299
        }
      },
      "cell_type": "code",
      "source": [
        "df.head()"
      ],
      "execution_count": 17,
      "outputs": [
        {
          "output_type": "execute_result",
          "data": {
            "text/html": [
              "<div>\n",
              "<style scoped>\n",
              "    .dataframe tbody tr th:only-of-type {\n",
              "        vertical-align: middle;\n",
              "    }\n",
              "\n",
              "    .dataframe tbody tr th {\n",
              "        vertical-align: top;\n",
              "    }\n",
              "\n",
              "    .dataframe thead th {\n",
              "        text-align: right;\n",
              "    }\n",
              "</style>\n",
              "<table border=\"1\" class=\"dataframe\">\n",
              "  <thead>\n",
              "    <tr style=\"text-align: right;\">\n",
              "      <th></th>\n",
              "      <th>Age</th>\n",
              "      <th>BusinessTravel</th>\n",
              "      <th>DailyRate</th>\n",
              "      <th>Department</th>\n",
              "      <th>DistanceFromHome</th>\n",
              "      <th>Education</th>\n",
              "      <th>EducationField</th>\n",
              "      <th>EnvironmentSatisfaction</th>\n",
              "      <th>Gender</th>\n",
              "      <th>HourlyRate</th>\n",
              "      <th>JobInvolvement</th>\n",
              "      <th>JobLevel</th>\n",
              "      <th>JobRole</th>\n",
              "      <th>JobSatisfaction</th>\n",
              "      <th>MaritalStatus</th>\n",
              "      <th>MonthlyIncome</th>\n",
              "      <th>MonthlyRate</th>\n",
              "      <th>NumCompaniesWorked</th>\n",
              "      <th>OverTime</th>\n",
              "      <th>PercentSalaryHike</th>\n",
              "      <th>PerformanceRating</th>\n",
              "      <th>RelationshipSatisfaction</th>\n",
              "      <th>StockOptionLevel</th>\n",
              "      <th>TotalWorkingYears</th>\n",
              "      <th>TrainingTimesLastYear</th>\n",
              "      <th>WorkLifeBalance</th>\n",
              "      <th>YearsAtCompany</th>\n",
              "      <th>YearsInCurrentRole</th>\n",
              "      <th>YearsSinceLastPromotion</th>\n",
              "      <th>YearsWithCurrManager</th>\n",
              "      <th>Attrition</th>\n",
              "    </tr>\n",
              "  </thead>\n",
              "  <tbody>\n",
              "    <tr>\n",
              "      <th>0</th>\n",
              "      <td>41</td>\n",
              "      <td>Travel_Rarely</td>\n",
              "      <td>1102</td>\n",
              "      <td>Sales</td>\n",
              "      <td>1</td>\n",
              "      <td>2</td>\n",
              "      <td>Life Sciences</td>\n",
              "      <td>2</td>\n",
              "      <td>Female</td>\n",
              "      <td>94</td>\n",
              "      <td>3</td>\n",
              "      <td>2</td>\n",
              "      <td>Sales Executive</td>\n",
              "      <td>4</td>\n",
              "      <td>Single</td>\n",
              "      <td>5993</td>\n",
              "      <td>19479</td>\n",
              "      <td>8</td>\n",
              "      <td>Yes</td>\n",
              "      <td>11</td>\n",
              "      <td>3</td>\n",
              "      <td>1</td>\n",
              "      <td>0</td>\n",
              "      <td>8</td>\n",
              "      <td>0</td>\n",
              "      <td>1</td>\n",
              "      <td>6</td>\n",
              "      <td>4</td>\n",
              "      <td>0</td>\n",
              "      <td>5</td>\n",
              "      <td>Yes</td>\n",
              "    </tr>\n",
              "    <tr>\n",
              "      <th>1</th>\n",
              "      <td>49</td>\n",
              "      <td>Travel_Frequently</td>\n",
              "      <td>279</td>\n",
              "      <td>Research &amp; Development</td>\n",
              "      <td>8</td>\n",
              "      <td>1</td>\n",
              "      <td>Life Sciences</td>\n",
              "      <td>3</td>\n",
              "      <td>Male</td>\n",
              "      <td>61</td>\n",
              "      <td>2</td>\n",
              "      <td>2</td>\n",
              "      <td>Research Scientist</td>\n",
              "      <td>2</td>\n",
              "      <td>Married</td>\n",
              "      <td>5130</td>\n",
              "      <td>24907</td>\n",
              "      <td>1</td>\n",
              "      <td>No</td>\n",
              "      <td>23</td>\n",
              "      <td>4</td>\n",
              "      <td>4</td>\n",
              "      <td>1</td>\n",
              "      <td>10</td>\n",
              "      <td>3</td>\n",
              "      <td>3</td>\n",
              "      <td>10</td>\n",
              "      <td>7</td>\n",
              "      <td>1</td>\n",
              "      <td>7</td>\n",
              "      <td>No</td>\n",
              "    </tr>\n",
              "    <tr>\n",
              "      <th>2</th>\n",
              "      <td>37</td>\n",
              "      <td>Travel_Rarely</td>\n",
              "      <td>1373</td>\n",
              "      <td>Research &amp; Development</td>\n",
              "      <td>2</td>\n",
              "      <td>2</td>\n",
              "      <td>Other</td>\n",
              "      <td>4</td>\n",
              "      <td>Male</td>\n",
              "      <td>92</td>\n",
              "      <td>2</td>\n",
              "      <td>1</td>\n",
              "      <td>Laboratory Technician</td>\n",
              "      <td>3</td>\n",
              "      <td>Single</td>\n",
              "      <td>2090</td>\n",
              "      <td>2396</td>\n",
              "      <td>6</td>\n",
              "      <td>Yes</td>\n",
              "      <td>15</td>\n",
              "      <td>3</td>\n",
              "      <td>2</td>\n",
              "      <td>0</td>\n",
              "      <td>7</td>\n",
              "      <td>3</td>\n",
              "      <td>3</td>\n",
              "      <td>0</td>\n",
              "      <td>0</td>\n",
              "      <td>0</td>\n",
              "      <td>0</td>\n",
              "      <td>Yes</td>\n",
              "    </tr>\n",
              "    <tr>\n",
              "      <th>3</th>\n",
              "      <td>33</td>\n",
              "      <td>Travel_Frequently</td>\n",
              "      <td>1392</td>\n",
              "      <td>Research &amp; Development</td>\n",
              "      <td>3</td>\n",
              "      <td>4</td>\n",
              "      <td>Life Sciences</td>\n",
              "      <td>4</td>\n",
              "      <td>Female</td>\n",
              "      <td>56</td>\n",
              "      <td>3</td>\n",
              "      <td>1</td>\n",
              "      <td>Research Scientist</td>\n",
              "      <td>3</td>\n",
              "      <td>Married</td>\n",
              "      <td>2909</td>\n",
              "      <td>23159</td>\n",
              "      <td>1</td>\n",
              "      <td>Yes</td>\n",
              "      <td>11</td>\n",
              "      <td>3</td>\n",
              "      <td>3</td>\n",
              "      <td>0</td>\n",
              "      <td>8</td>\n",
              "      <td>3</td>\n",
              "      <td>3</td>\n",
              "      <td>8</td>\n",
              "      <td>7</td>\n",
              "      <td>3</td>\n",
              "      <td>0</td>\n",
              "      <td>No</td>\n",
              "    </tr>\n",
              "    <tr>\n",
              "      <th>4</th>\n",
              "      <td>27</td>\n",
              "      <td>Travel_Rarely</td>\n",
              "      <td>591</td>\n",
              "      <td>Research &amp; Development</td>\n",
              "      <td>2</td>\n",
              "      <td>1</td>\n",
              "      <td>Medical</td>\n",
              "      <td>1</td>\n",
              "      <td>Male</td>\n",
              "      <td>40</td>\n",
              "      <td>3</td>\n",
              "      <td>1</td>\n",
              "      <td>Laboratory Technician</td>\n",
              "      <td>2</td>\n",
              "      <td>Married</td>\n",
              "      <td>3468</td>\n",
              "      <td>16632</td>\n",
              "      <td>9</td>\n",
              "      <td>No</td>\n",
              "      <td>12</td>\n",
              "      <td>3</td>\n",
              "      <td>4</td>\n",
              "      <td>1</td>\n",
              "      <td>6</td>\n",
              "      <td>3</td>\n",
              "      <td>3</td>\n",
              "      <td>2</td>\n",
              "      <td>2</td>\n",
              "      <td>2</td>\n",
              "      <td>2</td>\n",
              "      <td>No</td>\n",
              "    </tr>\n",
              "  </tbody>\n",
              "</table>\n",
              "</div>"
            ],
            "text/plain": [
              "   Age     BusinessTravel  DailyRate              Department  \\\n",
              "0   41      Travel_Rarely       1102                   Sales   \n",
              "1   49  Travel_Frequently        279  Research & Development   \n",
              "2   37      Travel_Rarely       1373  Research & Development   \n",
              "3   33  Travel_Frequently       1392  Research & Development   \n",
              "4   27      Travel_Rarely        591  Research & Development   \n",
              "\n",
              "   DistanceFromHome  Education EducationField  EnvironmentSatisfaction  \\\n",
              "0                 1          2  Life Sciences                        2   \n",
              "1                 8          1  Life Sciences                        3   \n",
              "2                 2          2          Other                        4   \n",
              "3                 3          4  Life Sciences                        4   \n",
              "4                 2          1        Medical                        1   \n",
              "\n",
              "   Gender  HourlyRate  JobInvolvement  JobLevel                JobRole  \\\n",
              "0  Female          94               3         2        Sales Executive   \n",
              "1    Male          61               2         2     Research Scientist   \n",
              "2    Male          92               2         1  Laboratory Technician   \n",
              "3  Female          56               3         1     Research Scientist   \n",
              "4    Male          40               3         1  Laboratory Technician   \n",
              "\n",
              "   JobSatisfaction MaritalStatus  MonthlyIncome  MonthlyRate  \\\n",
              "0                4        Single           5993        19479   \n",
              "1                2       Married           5130        24907   \n",
              "2                3        Single           2090         2396   \n",
              "3                3       Married           2909        23159   \n",
              "4                2       Married           3468        16632   \n",
              "\n",
              "   NumCompaniesWorked OverTime  PercentSalaryHike  PerformanceRating  \\\n",
              "0                   8      Yes                 11                  3   \n",
              "1                   1       No                 23                  4   \n",
              "2                   6      Yes                 15                  3   \n",
              "3                   1      Yes                 11                  3   \n",
              "4                   9       No                 12                  3   \n",
              "\n",
              "   RelationshipSatisfaction  StockOptionLevel  TotalWorkingYears  \\\n",
              "0                         1                 0                  8   \n",
              "1                         4                 1                 10   \n",
              "2                         2                 0                  7   \n",
              "3                         3                 0                  8   \n",
              "4                         4                 1                  6   \n",
              "\n",
              "   TrainingTimesLastYear  WorkLifeBalance  YearsAtCompany  YearsInCurrentRole  \\\n",
              "0                      0                1               6                   4   \n",
              "1                      3                3              10                   7   \n",
              "2                      3                3               0                   0   \n",
              "3                      3                3               8                   7   \n",
              "4                      3                3               2                   2   \n",
              "\n",
              "   YearsSinceLastPromotion  YearsWithCurrManager Attrition  \n",
              "0                        0                     5       Yes  \n",
              "1                        1                     7        No  \n",
              "2                        0                     0       Yes  \n",
              "3                        3                     0        No  \n",
              "4                        2                     2        No  "
            ]
          },
          "metadata": {
            "tags": []
          },
          "execution_count": 17
        }
      ]
    },
    {
      "metadata": {
        "id": "QTItSMqxScgV",
        "colab_type": "text"
      },
      "cell_type": "markdown",
      "source": [
        "**From data dictionary:**\n",
        "\n",
        "Education:\n",
        "  1 'Below College'\n",
        "\t2 'College'\n",
        "\t3 'Bachelor'\n",
        "\t4 'Master'\n",
        "\t5 'Doctor'\n",
        "\t\n",
        "EnvironmentSatisfaction:\n",
        "  1 'Low'\n",
        "\t2 'Medium'\n",
        "\t3 'High'\n",
        "\t4 'Very High'\n",
        "\t\n",
        "JobInvolvement:\n",
        "  1 'Low'\n",
        "\t2 'Medium'\n",
        "\t3 'High'\n",
        "\t4 'Very High'\n",
        "\t\n",
        "JobSatisfaction:\n",
        "  1 'Low'\n",
        "\t2 'Medium'\n",
        "\t3 'High'\n",
        "\t4 'Very High'\n",
        "\t\n",
        "PerformanceRating:\n",
        "  1 'Low'\n",
        "\t2 'Good'\n",
        "\t3 'Excellent'\n",
        "\t4 'Outstanding'\n",
        "\t\n",
        "RelationshipSatisfaction:\n",
        "  1 'Low'\n",
        "\t2 'Medium'\n",
        "\t3 'High'\n",
        "\t4 'Very High'\n",
        "\t\n",
        "WorkLifeBalance:\n",
        "  1 'Bad'\n",
        "\t2 'Good'\n",
        "\t3 'Better'\n",
        "\t4 'Best'\n",
        "  \n",
        "  **So these are ordinal categorical variables and need to be treated separately from numerical variables.**"
      ]
    },
    {
      "metadata": {
        "id": "SWiGeSWBUsz0",
        "colab_type": "text"
      },
      "cell_type": "markdown",
      "source": [
        "**Lets create two separate datasets, for categorical and numerical variables**"
      ]
    },
    {
      "metadata": {
        "id": "F9fqadvMU1ez",
        "colab_type": "code",
        "outputId": "c9f38ff9-95b1-41a9-a1ce-ec2718ba6e31",
        "colab": {
          "base_uri": "https://localhost:8080/",
          "height": 185
        }
      },
      "cell_type": "code",
      "source": [
        "df.columns"
      ],
      "execution_count": 0,
      "outputs": [
        {
          "output_type": "execute_result",
          "data": {
            "text/plain": [
              "Index(['Age', 'BusinessTravel', 'DailyRate', 'Department', 'DistanceFromHome',\n",
              "       'Education', 'EducationField', 'EnvironmentSatisfaction', 'Gender',\n",
              "       'HourlyRate', 'JobInvolvement', 'JobLevel', 'JobRole',\n",
              "       'JobSatisfaction', 'MaritalStatus', 'MonthlyIncome', 'MonthlyRate',\n",
              "       'NumCompaniesWorked', 'OverTime', 'PercentSalaryHike',\n",
              "       'PerformanceRating', 'RelationshipSatisfaction', 'StockOptionLevel',\n",
              "       'TotalWorkingYears', 'TrainingTimesLastYear', 'WorkLifeBalance',\n",
              "       'YearsAtCompany', 'YearsInCurrentRole', 'YearsSinceLastPromotion',\n",
              "       'YearsWithCurrManager', 'Attrition'],\n",
              "      dtype='object')"
            ]
          },
          "metadata": {
            "tags": []
          },
          "execution_count": 50
        }
      ]
    },
    {
      "metadata": {
        "id": "9sTPsWZLU-5N",
        "colab_type": "code",
        "outputId": "0f7bd86f-a9d5-43bd-e6f9-9c2333ae3f28",
        "colab": {
          "base_uri": "https://localhost:8080/",
          "height": 160
        }
      },
      "cell_type": "code",
      "source": [
        "df.head(2)"
      ],
      "execution_count": 0,
      "outputs": [
        {
          "output_type": "execute_result",
          "data": {
            "text/html": [
              "<div>\n",
              "<style scoped>\n",
              "    .dataframe tbody tr th:only-of-type {\n",
              "        vertical-align: middle;\n",
              "    }\n",
              "\n",
              "    .dataframe tbody tr th {\n",
              "        vertical-align: top;\n",
              "    }\n",
              "\n",
              "    .dataframe thead th {\n",
              "        text-align: right;\n",
              "    }\n",
              "</style>\n",
              "<table border=\"1\" class=\"dataframe\">\n",
              "  <thead>\n",
              "    <tr style=\"text-align: right;\">\n",
              "      <th></th>\n",
              "      <th>Age</th>\n",
              "      <th>BusinessTravel</th>\n",
              "      <th>DailyRate</th>\n",
              "      <th>Department</th>\n",
              "      <th>DistanceFromHome</th>\n",
              "      <th>Education</th>\n",
              "      <th>EducationField</th>\n",
              "      <th>EnvironmentSatisfaction</th>\n",
              "      <th>Gender</th>\n",
              "      <th>HourlyRate</th>\n",
              "      <th>JobInvolvement</th>\n",
              "      <th>JobLevel</th>\n",
              "      <th>JobRole</th>\n",
              "      <th>JobSatisfaction</th>\n",
              "      <th>MaritalStatus</th>\n",
              "      <th>MonthlyIncome</th>\n",
              "      <th>MonthlyRate</th>\n",
              "      <th>NumCompaniesWorked</th>\n",
              "      <th>OverTime</th>\n",
              "      <th>PercentSalaryHike</th>\n",
              "      <th>PerformanceRating</th>\n",
              "      <th>RelationshipSatisfaction</th>\n",
              "      <th>StockOptionLevel</th>\n",
              "      <th>TotalWorkingYears</th>\n",
              "      <th>TrainingTimesLastYear</th>\n",
              "      <th>WorkLifeBalance</th>\n",
              "      <th>YearsAtCompany</th>\n",
              "      <th>YearsInCurrentRole</th>\n",
              "      <th>YearsSinceLastPromotion</th>\n",
              "      <th>YearsWithCurrManager</th>\n",
              "      <th>Attrition</th>\n",
              "    </tr>\n",
              "  </thead>\n",
              "  <tbody>\n",
              "    <tr>\n",
              "      <th>0</th>\n",
              "      <td>41</td>\n",
              "      <td>Travel_Rarely</td>\n",
              "      <td>1102</td>\n",
              "      <td>Sales</td>\n",
              "      <td>1</td>\n",
              "      <td>2</td>\n",
              "      <td>Life Sciences</td>\n",
              "      <td>2</td>\n",
              "      <td>Female</td>\n",
              "      <td>94</td>\n",
              "      <td>3</td>\n",
              "      <td>2</td>\n",
              "      <td>Sales Executive</td>\n",
              "      <td>4</td>\n",
              "      <td>Single</td>\n",
              "      <td>5993</td>\n",
              "      <td>19479</td>\n",
              "      <td>8</td>\n",
              "      <td>Yes</td>\n",
              "      <td>11</td>\n",
              "      <td>3</td>\n",
              "      <td>1</td>\n",
              "      <td>0</td>\n",
              "      <td>8</td>\n",
              "      <td>0</td>\n",
              "      <td>1</td>\n",
              "      <td>6</td>\n",
              "      <td>4</td>\n",
              "      <td>0</td>\n",
              "      <td>5</td>\n",
              "      <td>Yes</td>\n",
              "    </tr>\n",
              "    <tr>\n",
              "      <th>1</th>\n",
              "      <td>49</td>\n",
              "      <td>Travel_Frequently</td>\n",
              "      <td>279</td>\n",
              "      <td>Research &amp; Development</td>\n",
              "      <td>8</td>\n",
              "      <td>1</td>\n",
              "      <td>Life Sciences</td>\n",
              "      <td>3</td>\n",
              "      <td>Male</td>\n",
              "      <td>61</td>\n",
              "      <td>2</td>\n",
              "      <td>2</td>\n",
              "      <td>Research Scientist</td>\n",
              "      <td>2</td>\n",
              "      <td>Married</td>\n",
              "      <td>5130</td>\n",
              "      <td>24907</td>\n",
              "      <td>1</td>\n",
              "      <td>No</td>\n",
              "      <td>23</td>\n",
              "      <td>4</td>\n",
              "      <td>4</td>\n",
              "      <td>1</td>\n",
              "      <td>10</td>\n",
              "      <td>3</td>\n",
              "      <td>3</td>\n",
              "      <td>10</td>\n",
              "      <td>7</td>\n",
              "      <td>1</td>\n",
              "      <td>7</td>\n",
              "      <td>No</td>\n",
              "    </tr>\n",
              "  </tbody>\n",
              "</table>\n",
              "</div>"
            ],
            "text/plain": [
              "   Age     BusinessTravel  DailyRate              Department  \\\n",
              "0   41      Travel_Rarely       1102                   Sales   \n",
              "1   49  Travel_Frequently        279  Research & Development   \n",
              "\n",
              "   DistanceFromHome  Education EducationField  EnvironmentSatisfaction  \\\n",
              "0                 1          2  Life Sciences                        2   \n",
              "1                 8          1  Life Sciences                        3   \n",
              "\n",
              "   Gender  HourlyRate  JobInvolvement  JobLevel             JobRole  \\\n",
              "0  Female          94               3         2     Sales Executive   \n",
              "1    Male          61               2         2  Research Scientist   \n",
              "\n",
              "   JobSatisfaction MaritalStatus  MonthlyIncome  MonthlyRate  \\\n",
              "0                4        Single           5993        19479   \n",
              "1                2       Married           5130        24907   \n",
              "\n",
              "   NumCompaniesWorked OverTime  PercentSalaryHike  PerformanceRating  \\\n",
              "0                   8      Yes                 11                  3   \n",
              "1                   1       No                 23                  4   \n",
              "\n",
              "   RelationshipSatisfaction  StockOptionLevel  TotalWorkingYears  \\\n",
              "0                         1                 0                  8   \n",
              "1                         4                 1                 10   \n",
              "\n",
              "   TrainingTimesLastYear  WorkLifeBalance  YearsAtCompany  YearsInCurrentRole  \\\n",
              "0                      0                1               6                   4   \n",
              "1                      3                3              10                   7   \n",
              "\n",
              "   YearsSinceLastPromotion  YearsWithCurrManager Attrition  \n",
              "0                        0                     5       Yes  \n",
              "1                        1                     7        No  "
            ]
          },
          "metadata": {
            "tags": []
          },
          "execution_count": 51
        }
      ]
    },
    {
      "metadata": {
        "id": "fctRfu2bUyW1",
        "colab_type": "code",
        "colab": {}
      },
      "cell_type": "code",
      "source": [
        "df_num = df.loc[:,['Age', 'DailyRate', 'DistanceFromHome', 'HourlyRate', 'MonthlyIncome', 'MonthlyRate',\n",
        "       'NumCompaniesWorked', 'PercentSalaryHike', 'TotalWorkingYears', 'TrainingTimesLastYear', \n",
        "       'YearsAtCompany', 'YearsInCurrentRole', 'YearsSinceLastPromotion', 'YearsWithCurrManager']]"
      ],
      "execution_count": 0,
      "outputs": []
    },
    {
      "metadata": {
        "id": "Mbx6tDY9UyUb",
        "colab_type": "code",
        "colab": {}
      },
      "cell_type": "code",
      "source": [
        "df_cat = df.loc[:,['BusinessTravel', 'Department', 'Education', 'EducationField', 'EnvironmentSatisfaction', 'Gender',\n",
        "       'JobInvolvement', 'JobLevel', 'JobRole', 'JobSatisfaction', 'MaritalStatus', 'OverTime', 'PerformanceRating', 'RelationshipSatisfaction', 'StockOptionLevel',\n",
        "       'WorkLifeBalance', 'Attrition']]"
      ],
      "execution_count": 0,
      "outputs": []
    },
    {
      "metadata": {
        "id": "2iaLzsOBUyRg",
        "colab_type": "code",
        "outputId": "b2472e9f-3194-4a14-f8b6-16760319796c",
        "colab": {
          "base_uri": "https://localhost:8080/",
          "height": 126
        }
      },
      "cell_type": "code",
      "source": [
        "df_num.head(2)"
      ],
      "execution_count": 42,
      "outputs": [
        {
          "output_type": "execute_result",
          "data": {
            "text/html": [
              "<div>\n",
              "<style scoped>\n",
              "    .dataframe tbody tr th:only-of-type {\n",
              "        vertical-align: middle;\n",
              "    }\n",
              "\n",
              "    .dataframe tbody tr th {\n",
              "        vertical-align: top;\n",
              "    }\n",
              "\n",
              "    .dataframe thead th {\n",
              "        text-align: right;\n",
              "    }\n",
              "</style>\n",
              "<table border=\"1\" class=\"dataframe\">\n",
              "  <thead>\n",
              "    <tr style=\"text-align: right;\">\n",
              "      <th></th>\n",
              "      <th>Age</th>\n",
              "      <th>DailyRate</th>\n",
              "      <th>DistanceFromHome</th>\n",
              "      <th>HourlyRate</th>\n",
              "      <th>MonthlyIncome</th>\n",
              "      <th>MonthlyRate</th>\n",
              "      <th>NumCompaniesWorked</th>\n",
              "      <th>PercentSalaryHike</th>\n",
              "      <th>TotalWorkingYears</th>\n",
              "      <th>TrainingTimesLastYear</th>\n",
              "      <th>YearsAtCompany</th>\n",
              "      <th>YearsInCurrentRole</th>\n",
              "      <th>YearsSinceLastPromotion</th>\n",
              "      <th>YearsWithCurrManager</th>\n",
              "    </tr>\n",
              "  </thead>\n",
              "  <tbody>\n",
              "    <tr>\n",
              "      <th>0</th>\n",
              "      <td>41</td>\n",
              "      <td>1102</td>\n",
              "      <td>1</td>\n",
              "      <td>94</td>\n",
              "      <td>5993</td>\n",
              "      <td>19479</td>\n",
              "      <td>8</td>\n",
              "      <td>11</td>\n",
              "      <td>8</td>\n",
              "      <td>0</td>\n",
              "      <td>6</td>\n",
              "      <td>4</td>\n",
              "      <td>0</td>\n",
              "      <td>5</td>\n",
              "    </tr>\n",
              "    <tr>\n",
              "      <th>1</th>\n",
              "      <td>49</td>\n",
              "      <td>279</td>\n",
              "      <td>8</td>\n",
              "      <td>61</td>\n",
              "      <td>5130</td>\n",
              "      <td>24907</td>\n",
              "      <td>1</td>\n",
              "      <td>23</td>\n",
              "      <td>10</td>\n",
              "      <td>3</td>\n",
              "      <td>10</td>\n",
              "      <td>7</td>\n",
              "      <td>1</td>\n",
              "      <td>7</td>\n",
              "    </tr>\n",
              "  </tbody>\n",
              "</table>\n",
              "</div>"
            ],
            "text/plain": [
              "   Age  DailyRate  DistanceFromHome  HourlyRate  MonthlyIncome  MonthlyRate  \\\n",
              "0   41       1102                 1          94           5993        19479   \n",
              "1   49        279                 8          61           5130        24907   \n",
              "\n",
              "   NumCompaniesWorked  PercentSalaryHike  TotalWorkingYears  \\\n",
              "0                   8                 11                  8   \n",
              "1                   1                 23                 10   \n",
              "\n",
              "   TrainingTimesLastYear  YearsAtCompany  YearsInCurrentRole  \\\n",
              "0                      0               6                   4   \n",
              "1                      3              10                   7   \n",
              "\n",
              "   YearsSinceLastPromotion  YearsWithCurrManager  \n",
              "0                        0                     5  \n",
              "1                        1                     7  "
            ]
          },
          "metadata": {
            "tags": []
          },
          "execution_count": 42
        }
      ]
    },
    {
      "metadata": {
        "id": "s3MHqkqSUyOp",
        "colab_type": "code",
        "outputId": "285b92ba-5664-48b0-9370-cbb1e29feecd",
        "colab": {
          "base_uri": "https://localhost:8080/",
          "height": 160
        }
      },
      "cell_type": "code",
      "source": [
        "df_cat.head(2)"
      ],
      "execution_count": 21,
      "outputs": [
        {
          "output_type": "execute_result",
          "data": {
            "text/html": [
              "<div>\n",
              "<style scoped>\n",
              "    .dataframe tbody tr th:only-of-type {\n",
              "        vertical-align: middle;\n",
              "    }\n",
              "\n",
              "    .dataframe tbody tr th {\n",
              "        vertical-align: top;\n",
              "    }\n",
              "\n",
              "    .dataframe thead th {\n",
              "        text-align: right;\n",
              "    }\n",
              "</style>\n",
              "<table border=\"1\" class=\"dataframe\">\n",
              "  <thead>\n",
              "    <tr style=\"text-align: right;\">\n",
              "      <th></th>\n",
              "      <th>BusinessTravel</th>\n",
              "      <th>Department</th>\n",
              "      <th>Education</th>\n",
              "      <th>EducationField</th>\n",
              "      <th>EnvironmentSatisfaction</th>\n",
              "      <th>Gender</th>\n",
              "      <th>JobInvolvement</th>\n",
              "      <th>JobLevel</th>\n",
              "      <th>JobRole</th>\n",
              "      <th>JobSatisfaction</th>\n",
              "      <th>MaritalStatus</th>\n",
              "      <th>OverTime</th>\n",
              "      <th>PerformanceRating</th>\n",
              "      <th>RelationshipSatisfaction</th>\n",
              "      <th>StockOptionLevel</th>\n",
              "      <th>WorkLifeBalance</th>\n",
              "      <th>Attrition</th>\n",
              "    </tr>\n",
              "  </thead>\n",
              "  <tbody>\n",
              "    <tr>\n",
              "      <th>0</th>\n",
              "      <td>Travel_Rarely</td>\n",
              "      <td>Sales</td>\n",
              "      <td>2</td>\n",
              "      <td>Life Sciences</td>\n",
              "      <td>2</td>\n",
              "      <td>Female</td>\n",
              "      <td>3</td>\n",
              "      <td>2</td>\n",
              "      <td>Sales Executive</td>\n",
              "      <td>4</td>\n",
              "      <td>Single</td>\n",
              "      <td>Yes</td>\n",
              "      <td>3</td>\n",
              "      <td>1</td>\n",
              "      <td>0</td>\n",
              "      <td>1</td>\n",
              "      <td>Yes</td>\n",
              "    </tr>\n",
              "    <tr>\n",
              "      <th>1</th>\n",
              "      <td>Travel_Frequently</td>\n",
              "      <td>Research &amp; Development</td>\n",
              "      <td>1</td>\n",
              "      <td>Life Sciences</td>\n",
              "      <td>3</td>\n",
              "      <td>Male</td>\n",
              "      <td>2</td>\n",
              "      <td>2</td>\n",
              "      <td>Research Scientist</td>\n",
              "      <td>2</td>\n",
              "      <td>Married</td>\n",
              "      <td>No</td>\n",
              "      <td>4</td>\n",
              "      <td>4</td>\n",
              "      <td>1</td>\n",
              "      <td>3</td>\n",
              "      <td>No</td>\n",
              "    </tr>\n",
              "  </tbody>\n",
              "</table>\n",
              "</div>"
            ],
            "text/plain": [
              "      BusinessTravel              Department  Education EducationField  \\\n",
              "0      Travel_Rarely                   Sales          2  Life Sciences   \n",
              "1  Travel_Frequently  Research & Development          1  Life Sciences   \n",
              "\n",
              "   EnvironmentSatisfaction  Gender  JobInvolvement  JobLevel  \\\n",
              "0                        2  Female               3         2   \n",
              "1                        3    Male               2         2   \n",
              "\n",
              "              JobRole  JobSatisfaction MaritalStatus OverTime  \\\n",
              "0     Sales Executive                4        Single      Yes   \n",
              "1  Research Scientist                2       Married       No   \n",
              "\n",
              "   PerformanceRating  RelationshipSatisfaction  StockOptionLevel  \\\n",
              "0                  3                         1                 0   \n",
              "1                  4                         4                 1   \n",
              "\n",
              "   WorkLifeBalance Attrition  \n",
              "0                1       Yes  \n",
              "1                3        No  "
            ]
          },
          "metadata": {
            "tags": []
          },
          "execution_count": 21
        }
      ]
    },
    {
      "metadata": {
        "id": "zWFCOWjgRku6",
        "colab_type": "text"
      },
      "cell_type": "markdown",
      "source": [
        "# Categorical Variables:"
      ]
    },
    {
      "metadata": {
        "id": "FD0ujIJtGI0s",
        "colab_type": "text"
      },
      "cell_type": "markdown",
      "source": [
        "**let us encode the categorical variables**"
      ]
    },
    {
      "metadata": {
        "id": "a5ttqa44UyHS",
        "colab_type": "code",
        "colab": {
          "base_uri": "https://localhost:8080/",
          "height": 84
        },
        "outputId": "8f6a5f60-bb98-4911-fc4a-f294b00aef59"
      },
      "cell_type": "code",
      "source": [
        "df_cat.BusinessTravel.value_counts()"
      ],
      "execution_count": 29,
      "outputs": [
        {
          "output_type": "execute_result",
          "data": {
            "text/plain": [
              "Travel_Rarely        1043\n",
              "Travel_Frequently     277\n",
              "Non-Travel            150\n",
              "Name: BusinessTravel, dtype: int64"
            ]
          },
          "metadata": {
            "tags": []
          },
          "execution_count": 29
        }
      ]
    },
    {
      "metadata": {
        "id": "ugIMSutDGXYL",
        "colab_type": "text"
      },
      "cell_type": "markdown",
      "source": [
        "**This can be encoded as an ordinal variable: non_travel as 0, travel_rarely as 1, travel_frequently as 2**"
      ]
    },
    {
      "metadata": {
        "id": "Y5SC2ugDGpYy",
        "colab_type": "code",
        "colab": {}
      },
      "cell_type": "code",
      "source": [
        "df_cat['BusinessTravel'].replace(to_replace=['Travel_Rarely', 'Travel_Frequently', 'Non-Travel'], value=[1,2,0], inplace=True)"
      ],
      "execution_count": 0,
      "outputs": []
    },
    {
      "metadata": {
        "id": "8LBohyn_HHm0",
        "colab_type": "code",
        "colab": {
          "base_uri": "https://localhost:8080/",
          "height": 84
        },
        "outputId": "8512bfd8-cbba-4b82-ec89-988071e84f56"
      },
      "cell_type": "code",
      "source": [
        "df_cat.BusinessTravel.value_counts()"
      ],
      "execution_count": 31,
      "outputs": [
        {
          "output_type": "execute_result",
          "data": {
            "text/plain": [
              "1    1043\n",
              "2     277\n",
              "0     150\n",
              "Name: BusinessTravel, dtype: int64"
            ]
          },
          "metadata": {
            "tags": []
          },
          "execution_count": 31
        }
      ]
    },
    {
      "metadata": {
        "id": "LyWOM0tgEk10",
        "colab_type": "code",
        "colab": {
          "base_uri": "https://localhost:8080/",
          "height": 195
        },
        "outputId": "9b30f41c-76dd-4cc9-f794-fe2e4b6afb13"
      },
      "cell_type": "code",
      "source": [
        "cat_cols = ['Department', 'EducationField',\n",
        "        'Gender', 'JobRole', 'MaritalStatus', 'OverTime', 'Attrition']\n",
        "df_cat.loc[:,cat_cols].head()"
      ],
      "execution_count": 33,
      "outputs": [
        {
          "output_type": "execute_result",
          "data": {
            "text/html": [
              "<div>\n",
              "<style scoped>\n",
              "    .dataframe tbody tr th:only-of-type {\n",
              "        vertical-align: middle;\n",
              "    }\n",
              "\n",
              "    .dataframe tbody tr th {\n",
              "        vertical-align: top;\n",
              "    }\n",
              "\n",
              "    .dataframe thead th {\n",
              "        text-align: right;\n",
              "    }\n",
              "</style>\n",
              "<table border=\"1\" class=\"dataframe\">\n",
              "  <thead>\n",
              "    <tr style=\"text-align: right;\">\n",
              "      <th></th>\n",
              "      <th>Department</th>\n",
              "      <th>EducationField</th>\n",
              "      <th>Gender</th>\n",
              "      <th>JobRole</th>\n",
              "      <th>MaritalStatus</th>\n",
              "      <th>OverTime</th>\n",
              "      <th>Attrition</th>\n",
              "    </tr>\n",
              "  </thead>\n",
              "  <tbody>\n",
              "    <tr>\n",
              "      <th>0</th>\n",
              "      <td>Sales</td>\n",
              "      <td>Life Sciences</td>\n",
              "      <td>Female</td>\n",
              "      <td>Sales Executive</td>\n",
              "      <td>Single</td>\n",
              "      <td>Yes</td>\n",
              "      <td>Yes</td>\n",
              "    </tr>\n",
              "    <tr>\n",
              "      <th>1</th>\n",
              "      <td>Research &amp; Development</td>\n",
              "      <td>Life Sciences</td>\n",
              "      <td>Male</td>\n",
              "      <td>Research Scientist</td>\n",
              "      <td>Married</td>\n",
              "      <td>No</td>\n",
              "      <td>No</td>\n",
              "    </tr>\n",
              "    <tr>\n",
              "      <th>2</th>\n",
              "      <td>Research &amp; Development</td>\n",
              "      <td>Other</td>\n",
              "      <td>Male</td>\n",
              "      <td>Laboratory Technician</td>\n",
              "      <td>Single</td>\n",
              "      <td>Yes</td>\n",
              "      <td>Yes</td>\n",
              "    </tr>\n",
              "    <tr>\n",
              "      <th>3</th>\n",
              "      <td>Research &amp; Development</td>\n",
              "      <td>Life Sciences</td>\n",
              "      <td>Female</td>\n",
              "      <td>Research Scientist</td>\n",
              "      <td>Married</td>\n",
              "      <td>Yes</td>\n",
              "      <td>No</td>\n",
              "    </tr>\n",
              "    <tr>\n",
              "      <th>4</th>\n",
              "      <td>Research &amp; Development</td>\n",
              "      <td>Medical</td>\n",
              "      <td>Male</td>\n",
              "      <td>Laboratory Technician</td>\n",
              "      <td>Married</td>\n",
              "      <td>No</td>\n",
              "      <td>No</td>\n",
              "    </tr>\n",
              "  </tbody>\n",
              "</table>\n",
              "</div>"
            ],
            "text/plain": [
              "               Department EducationField  Gender                JobRole  \\\n",
              "0                   Sales  Life Sciences  Female        Sales Executive   \n",
              "1  Research & Development  Life Sciences    Male     Research Scientist   \n",
              "2  Research & Development          Other    Male  Laboratory Technician   \n",
              "3  Research & Development  Life Sciences  Female     Research Scientist   \n",
              "4  Research & Development        Medical    Male  Laboratory Technician   \n",
              "\n",
              "  MaritalStatus OverTime Attrition  \n",
              "0        Single      Yes       Yes  \n",
              "1       Married       No        No  \n",
              "2        Single      Yes       Yes  \n",
              "3       Married      Yes        No  \n",
              "4       Married       No        No  "
            ]
          },
          "metadata": {
            "tags": []
          },
          "execution_count": 33
        }
      ]
    },
    {
      "metadata": {
        "id": "1QUzmQf_FyQh",
        "colab_type": "code",
        "colab": {
          "base_uri": "https://localhost:8080/",
          "height": 84
        },
        "outputId": "37af2520-fbe0-4829-ab5e-816844dfcf99"
      },
      "cell_type": "code",
      "source": [
        "df_cat.Department.value_counts()"
      ],
      "execution_count": 34,
      "outputs": [
        {
          "output_type": "execute_result",
          "data": {
            "text/plain": [
              "Research & Development    961\n",
              "Sales                     446\n",
              "Human Resources            63\n",
              "Name: Department, dtype: int64"
            ]
          },
          "metadata": {
            "tags": []
          },
          "execution_count": 34
        }
      ]
    },
    {
      "metadata": {
        "id": "EVIOgigzIJra",
        "colab_type": "code",
        "colab": {
          "base_uri": "https://localhost:8080/",
          "height": 134
        },
        "outputId": "ea9d42e6-f5c4-46ee-face-429136577674"
      },
      "cell_type": "code",
      "source": [
        "df_cat.EducationField.value_counts()"
      ],
      "execution_count": 35,
      "outputs": [
        {
          "output_type": "execute_result",
          "data": {
            "text/plain": [
              "Life Sciences       606\n",
              "Medical             464\n",
              "Marketing           159\n",
              "Technical Degree    132\n",
              "Other                82\n",
              "Human Resources      27\n",
              "Name: EducationField, dtype: int64"
            ]
          },
          "metadata": {
            "tags": []
          },
          "execution_count": 35
        }
      ]
    },
    {
      "metadata": {
        "id": "esfOlFHAITIa",
        "colab_type": "code",
        "colab": {
          "base_uri": "https://localhost:8080/",
          "height": 185
        },
        "outputId": "79aa702d-5fc7-4918-b560-22bb40c9c234"
      },
      "cell_type": "code",
      "source": [
        "df_cat.JobRole.value_counts()"
      ],
      "execution_count": 37,
      "outputs": [
        {
          "output_type": "execute_result",
          "data": {
            "text/plain": [
              "Sales Executive              326\n",
              "Research Scientist           292\n",
              "Laboratory Technician        259\n",
              "Manufacturing Director       145\n",
              "Healthcare Representative    131\n",
              "Manager                      102\n",
              "Sales Representative          83\n",
              "Research Director             80\n",
              "Human Resources               52\n",
              "Name: JobRole, dtype: int64"
            ]
          },
          "metadata": {
            "tags": []
          },
          "execution_count": 37
        }
      ]
    },
    {
      "metadata": {
        "id": "TJflnTxpIYtp",
        "colab_type": "code",
        "colab": {
          "base_uri": "https://localhost:8080/",
          "height": 84
        },
        "outputId": "1d1da9b9-c195-466a-85ab-08e4241b5635"
      },
      "cell_type": "code",
      "source": [
        "df_cat.MaritalStatus.value_counts()"
      ],
      "execution_count": 38,
      "outputs": [
        {
          "output_type": "execute_result",
          "data": {
            "text/plain": [
              "Married     673\n",
              "Single      470\n",
              "Divorced    327\n",
              "Name: MaritalStatus, dtype: int64"
            ]
          },
          "metadata": {
            "tags": []
          },
          "execution_count": 38
        }
      ]
    },
    {
      "metadata": {
        "id": "0wUzMzDXImLu",
        "colab_type": "code",
        "colab": {
          "base_uri": "https://localhost:8080/",
          "height": 67
        },
        "outputId": "279e8a94-8429-480b-fb5b-6c282f96a7d1"
      },
      "cell_type": "code",
      "source": [
        "df_cat.OverTime.value_counts()"
      ],
      "execution_count": 39,
      "outputs": [
        {
          "output_type": "execute_result",
          "data": {
            "text/plain": [
              "No     1054\n",
              "Yes     416\n",
              "Name: OverTime, dtype: int64"
            ]
          },
          "metadata": {
            "tags": []
          },
          "execution_count": 39
        }
      ]
    },
    {
      "metadata": {
        "id": "E6syKcneIpd1",
        "colab_type": "code",
        "colab": {
          "base_uri": "https://localhost:8080/",
          "height": 67
        },
        "outputId": "e45d0add-efee-4b46-f53e-5c9c8eb59fb4"
      },
      "cell_type": "code",
      "source": [
        "df_cat.Gender.value_counts()"
      ],
      "execution_count": 40,
      "outputs": [
        {
          "output_type": "execute_result",
          "data": {
            "text/plain": [
              "Male      882\n",
              "Female    588\n",
              "Name: Gender, dtype: int64"
            ]
          },
          "metadata": {
            "tags": []
          },
          "execution_count": 40
        }
      ]
    },
    {
      "metadata": {
        "id": "mQk0IPf6Jvag",
        "colab_type": "text"
      },
      "cell_type": "markdown",
      "source": [
        "**Gender and OverTime can be label-encoded as they have just two labels.**"
      ]
    },
    {
      "metadata": {
        "id": "qlqucFgNIsFG",
        "colab_type": "code",
        "colab": {}
      },
      "cell_type": "code",
      "source": [
        "from sklearn.preprocessing import LabelEncoder"
      ],
      "execution_count": 0,
      "outputs": []
    },
    {
      "metadata": {
        "id": "MusDE3xrKai5",
        "colab_type": "code",
        "colab": {}
      },
      "cell_type": "code",
      "source": [
        "le = LabelEncoder()"
      ],
      "execution_count": 0,
      "outputs": []
    },
    {
      "metadata": {
        "id": "K-gf7o4YKctx",
        "colab_type": "code",
        "colab": {}
      },
      "cell_type": "code",
      "source": [
        "df_cat_enc = df_cat.loc[:,['Gender', 'OverTime']].apply(le.fit_transform)"
      ],
      "execution_count": 0,
      "outputs": []
    },
    {
      "metadata": {
        "id": "53C6p-uFL0yq",
        "colab_type": "code",
        "colab": {
          "base_uri": "https://localhost:8080/",
          "height": 195
        },
        "outputId": "21f4aef3-5e5c-49df-81e8-4835d6e0e6e0"
      },
      "cell_type": "code",
      "source": [
        "df_cat_enc.head()"
      ],
      "execution_count": 47,
      "outputs": [
        {
          "output_type": "execute_result",
          "data": {
            "text/html": [
              "<div>\n",
              "<style scoped>\n",
              "    .dataframe tbody tr th:only-of-type {\n",
              "        vertical-align: middle;\n",
              "    }\n",
              "\n",
              "    .dataframe tbody tr th {\n",
              "        vertical-align: top;\n",
              "    }\n",
              "\n",
              "    .dataframe thead th {\n",
              "        text-align: right;\n",
              "    }\n",
              "</style>\n",
              "<table border=\"1\" class=\"dataframe\">\n",
              "  <thead>\n",
              "    <tr style=\"text-align: right;\">\n",
              "      <th></th>\n",
              "      <th>Gender</th>\n",
              "      <th>OverTime</th>\n",
              "    </tr>\n",
              "  </thead>\n",
              "  <tbody>\n",
              "    <tr>\n",
              "      <th>0</th>\n",
              "      <td>0</td>\n",
              "      <td>1</td>\n",
              "    </tr>\n",
              "    <tr>\n",
              "      <th>1</th>\n",
              "      <td>1</td>\n",
              "      <td>0</td>\n",
              "    </tr>\n",
              "    <tr>\n",
              "      <th>2</th>\n",
              "      <td>1</td>\n",
              "      <td>1</td>\n",
              "    </tr>\n",
              "    <tr>\n",
              "      <th>3</th>\n",
              "      <td>0</td>\n",
              "      <td>1</td>\n",
              "    </tr>\n",
              "    <tr>\n",
              "      <th>4</th>\n",
              "      <td>1</td>\n",
              "      <td>0</td>\n",
              "    </tr>\n",
              "  </tbody>\n",
              "</table>\n",
              "</div>"
            ],
            "text/plain": [
              "   Gender  OverTime\n",
              "0       0         1\n",
              "1       1         0\n",
              "2       1         1\n",
              "3       0         1\n",
              "4       1         0"
            ]
          },
          "metadata": {
            "tags": []
          },
          "execution_count": 47
        }
      ]
    },
    {
      "metadata": {
        "id": "JEZ8dvPdMSVC",
        "colab_type": "code",
        "colab": {}
      },
      "cell_type": "code",
      "source": [
        "df_cat_oh = pd.get_dummies(df_cat, columns=['Department', 'EducationField', 'JobRole', 'MaritalStatus'], drop_first=True)"
      ],
      "execution_count": 0,
      "outputs": []
    },
    {
      "metadata": {
        "id": "moRGEqPIMaEI",
        "colab_type": "code",
        "colab": {
          "base_uri": "https://localhost:8080/",
          "height": 232
        },
        "outputId": "d07a4337-1388-4b19-ffb7-5da57b44d07c"
      },
      "cell_type": "code",
      "source": [
        "df_cat_oh.head()"
      ],
      "execution_count": 51,
      "outputs": [
        {
          "output_type": "execute_result",
          "data": {
            "text/html": [
              "<div>\n",
              "<style scoped>\n",
              "    .dataframe tbody tr th:only-of-type {\n",
              "        vertical-align: middle;\n",
              "    }\n",
              "\n",
              "    .dataframe tbody tr th {\n",
              "        vertical-align: top;\n",
              "    }\n",
              "\n",
              "    .dataframe thead th {\n",
              "        text-align: right;\n",
              "    }\n",
              "</style>\n",
              "<table border=\"1\" class=\"dataframe\">\n",
              "  <thead>\n",
              "    <tr style=\"text-align: right;\">\n",
              "      <th></th>\n",
              "      <th>BusinessTravel</th>\n",
              "      <th>Education</th>\n",
              "      <th>EnvironmentSatisfaction</th>\n",
              "      <th>Gender</th>\n",
              "      <th>JobInvolvement</th>\n",
              "      <th>JobLevel</th>\n",
              "      <th>JobSatisfaction</th>\n",
              "      <th>OverTime</th>\n",
              "      <th>PerformanceRating</th>\n",
              "      <th>RelationshipSatisfaction</th>\n",
              "      <th>StockOptionLevel</th>\n",
              "      <th>WorkLifeBalance</th>\n",
              "      <th>Attrition</th>\n",
              "      <th>Department_Research &amp; Development</th>\n",
              "      <th>Department_Sales</th>\n",
              "      <th>EducationField_Life Sciences</th>\n",
              "      <th>EducationField_Marketing</th>\n",
              "      <th>EducationField_Medical</th>\n",
              "      <th>EducationField_Other</th>\n",
              "      <th>EducationField_Technical Degree</th>\n",
              "      <th>JobRole_Human Resources</th>\n",
              "      <th>JobRole_Laboratory Technician</th>\n",
              "      <th>JobRole_Manager</th>\n",
              "      <th>JobRole_Manufacturing Director</th>\n",
              "      <th>JobRole_Research Director</th>\n",
              "      <th>JobRole_Research Scientist</th>\n",
              "      <th>JobRole_Sales Executive</th>\n",
              "      <th>JobRole_Sales Representative</th>\n",
              "      <th>MaritalStatus_Married</th>\n",
              "      <th>MaritalStatus_Single</th>\n",
              "    </tr>\n",
              "  </thead>\n",
              "  <tbody>\n",
              "    <tr>\n",
              "      <th>0</th>\n",
              "      <td>1</td>\n",
              "      <td>2</td>\n",
              "      <td>2</td>\n",
              "      <td>Female</td>\n",
              "      <td>3</td>\n",
              "      <td>2</td>\n",
              "      <td>4</td>\n",
              "      <td>Yes</td>\n",
              "      <td>3</td>\n",
              "      <td>1</td>\n",
              "      <td>0</td>\n",
              "      <td>1</td>\n",
              "      <td>Yes</td>\n",
              "      <td>0</td>\n",
              "      <td>1</td>\n",
              "      <td>1</td>\n",
              "      <td>0</td>\n",
              "      <td>0</td>\n",
              "      <td>0</td>\n",
              "      <td>0</td>\n",
              "      <td>0</td>\n",
              "      <td>0</td>\n",
              "      <td>0</td>\n",
              "      <td>0</td>\n",
              "      <td>0</td>\n",
              "      <td>0</td>\n",
              "      <td>1</td>\n",
              "      <td>0</td>\n",
              "      <td>0</td>\n",
              "      <td>1</td>\n",
              "    </tr>\n",
              "    <tr>\n",
              "      <th>1</th>\n",
              "      <td>2</td>\n",
              "      <td>1</td>\n",
              "      <td>3</td>\n",
              "      <td>Male</td>\n",
              "      <td>2</td>\n",
              "      <td>2</td>\n",
              "      <td>2</td>\n",
              "      <td>No</td>\n",
              "      <td>4</td>\n",
              "      <td>4</td>\n",
              "      <td>1</td>\n",
              "      <td>3</td>\n",
              "      <td>No</td>\n",
              "      <td>1</td>\n",
              "      <td>0</td>\n",
              "      <td>1</td>\n",
              "      <td>0</td>\n",
              "      <td>0</td>\n",
              "      <td>0</td>\n",
              "      <td>0</td>\n",
              "      <td>0</td>\n",
              "      <td>0</td>\n",
              "      <td>0</td>\n",
              "      <td>0</td>\n",
              "      <td>0</td>\n",
              "      <td>1</td>\n",
              "      <td>0</td>\n",
              "      <td>0</td>\n",
              "      <td>1</td>\n",
              "      <td>0</td>\n",
              "    </tr>\n",
              "    <tr>\n",
              "      <th>2</th>\n",
              "      <td>1</td>\n",
              "      <td>2</td>\n",
              "      <td>4</td>\n",
              "      <td>Male</td>\n",
              "      <td>2</td>\n",
              "      <td>1</td>\n",
              "      <td>3</td>\n",
              "      <td>Yes</td>\n",
              "      <td>3</td>\n",
              "      <td>2</td>\n",
              "      <td>0</td>\n",
              "      <td>3</td>\n",
              "      <td>Yes</td>\n",
              "      <td>1</td>\n",
              "      <td>0</td>\n",
              "      <td>0</td>\n",
              "      <td>0</td>\n",
              "      <td>0</td>\n",
              "      <td>1</td>\n",
              "      <td>0</td>\n",
              "      <td>0</td>\n",
              "      <td>1</td>\n",
              "      <td>0</td>\n",
              "      <td>0</td>\n",
              "      <td>0</td>\n",
              "      <td>0</td>\n",
              "      <td>0</td>\n",
              "      <td>0</td>\n",
              "      <td>0</td>\n",
              "      <td>1</td>\n",
              "    </tr>\n",
              "    <tr>\n",
              "      <th>3</th>\n",
              "      <td>2</td>\n",
              "      <td>4</td>\n",
              "      <td>4</td>\n",
              "      <td>Female</td>\n",
              "      <td>3</td>\n",
              "      <td>1</td>\n",
              "      <td>3</td>\n",
              "      <td>Yes</td>\n",
              "      <td>3</td>\n",
              "      <td>3</td>\n",
              "      <td>0</td>\n",
              "      <td>3</td>\n",
              "      <td>No</td>\n",
              "      <td>1</td>\n",
              "      <td>0</td>\n",
              "      <td>1</td>\n",
              "      <td>0</td>\n",
              "      <td>0</td>\n",
              "      <td>0</td>\n",
              "      <td>0</td>\n",
              "      <td>0</td>\n",
              "      <td>0</td>\n",
              "      <td>0</td>\n",
              "      <td>0</td>\n",
              "      <td>0</td>\n",
              "      <td>1</td>\n",
              "      <td>0</td>\n",
              "      <td>0</td>\n",
              "      <td>1</td>\n",
              "      <td>0</td>\n",
              "    </tr>\n",
              "    <tr>\n",
              "      <th>4</th>\n",
              "      <td>1</td>\n",
              "      <td>1</td>\n",
              "      <td>1</td>\n",
              "      <td>Male</td>\n",
              "      <td>3</td>\n",
              "      <td>1</td>\n",
              "      <td>2</td>\n",
              "      <td>No</td>\n",
              "      <td>3</td>\n",
              "      <td>4</td>\n",
              "      <td>1</td>\n",
              "      <td>3</td>\n",
              "      <td>No</td>\n",
              "      <td>1</td>\n",
              "      <td>0</td>\n",
              "      <td>0</td>\n",
              "      <td>0</td>\n",
              "      <td>1</td>\n",
              "      <td>0</td>\n",
              "      <td>0</td>\n",
              "      <td>0</td>\n",
              "      <td>1</td>\n",
              "      <td>0</td>\n",
              "      <td>0</td>\n",
              "      <td>0</td>\n",
              "      <td>0</td>\n",
              "      <td>0</td>\n",
              "      <td>0</td>\n",
              "      <td>1</td>\n",
              "      <td>0</td>\n",
              "    </tr>\n",
              "  </tbody>\n",
              "</table>\n",
              "</div>"
            ],
            "text/plain": [
              "   BusinessTravel  Education  EnvironmentSatisfaction  Gender  JobInvolvement  \\\n",
              "0               1          2                        2  Female               3   \n",
              "1               2          1                        3    Male               2   \n",
              "2               1          2                        4    Male               2   \n",
              "3               2          4                        4  Female               3   \n",
              "4               1          1                        1    Male               3   \n",
              "\n",
              "   JobLevel  JobSatisfaction OverTime  PerformanceRating  \\\n",
              "0         2                4      Yes                  3   \n",
              "1         2                2       No                  4   \n",
              "2         1                3      Yes                  3   \n",
              "3         1                3      Yes                  3   \n",
              "4         1                2       No                  3   \n",
              "\n",
              "   RelationshipSatisfaction  StockOptionLevel  WorkLifeBalance Attrition  \\\n",
              "0                         1                 0                1       Yes   \n",
              "1                         4                 1                3        No   \n",
              "2                         2                 0                3       Yes   \n",
              "3                         3                 0                3        No   \n",
              "4                         4                 1                3        No   \n",
              "\n",
              "   Department_Research & Development  Department_Sales  \\\n",
              "0                                  0                 1   \n",
              "1                                  1                 0   \n",
              "2                                  1                 0   \n",
              "3                                  1                 0   \n",
              "4                                  1                 0   \n",
              "\n",
              "   EducationField_Life Sciences  EducationField_Marketing  \\\n",
              "0                             1                         0   \n",
              "1                             1                         0   \n",
              "2                             0                         0   \n",
              "3                             1                         0   \n",
              "4                             0                         0   \n",
              "\n",
              "   EducationField_Medical  EducationField_Other  \\\n",
              "0                       0                     0   \n",
              "1                       0                     0   \n",
              "2                       0                     1   \n",
              "3                       0                     0   \n",
              "4                       1                     0   \n",
              "\n",
              "   EducationField_Technical Degree  JobRole_Human Resources  \\\n",
              "0                                0                        0   \n",
              "1                                0                        0   \n",
              "2                                0                        0   \n",
              "3                                0                        0   \n",
              "4                                0                        0   \n",
              "\n",
              "   JobRole_Laboratory Technician  JobRole_Manager  \\\n",
              "0                              0                0   \n",
              "1                              0                0   \n",
              "2                              1                0   \n",
              "3                              0                0   \n",
              "4                              1                0   \n",
              "\n",
              "   JobRole_Manufacturing Director  JobRole_Research Director  \\\n",
              "0                               0                          0   \n",
              "1                               0                          0   \n",
              "2                               0                          0   \n",
              "3                               0                          0   \n",
              "4                               0                          0   \n",
              "\n",
              "   JobRole_Research Scientist  JobRole_Sales Executive  \\\n",
              "0                           0                        1   \n",
              "1                           1                        0   \n",
              "2                           0                        0   \n",
              "3                           1                        0   \n",
              "4                           0                        0   \n",
              "\n",
              "   JobRole_Sales Representative  MaritalStatus_Married  MaritalStatus_Single  \n",
              "0                             0                      0                     1  \n",
              "1                             0                      1                     0  \n",
              "2                             0                      0                     1  \n",
              "3                             0                      1                     0  \n",
              "4                             0                      1                     0  "
            ]
          },
          "metadata": {
            "tags": []
          },
          "execution_count": 51
        }
      ]
    },
    {
      "metadata": {
        "id": "TLsNthRKO1KN",
        "colab_type": "code",
        "colab": {
          "base_uri": "https://localhost:8080/",
          "height": 235
        },
        "outputId": "0a6ff161-da53-442b-f310-35470081952a"
      },
      "cell_type": "code",
      "source": [
        "df_cat_oh.columns"
      ],
      "execution_count": 53,
      "outputs": [
        {
          "output_type": "execute_result",
          "data": {
            "text/plain": [
              "Index(['BusinessTravel', 'Education', 'EnvironmentSatisfaction', 'Gender',\n",
              "       'JobInvolvement', 'JobLevel', 'JobSatisfaction', 'OverTime',\n",
              "       'PerformanceRating', 'RelationshipSatisfaction', 'StockOptionLevel',\n",
              "       'WorkLifeBalance', 'Attrition', 'Department_Research & Development',\n",
              "       'Department_Sales', 'EducationField_Life Sciences',\n",
              "       'EducationField_Marketing', 'EducationField_Medical',\n",
              "       'EducationField_Other', 'EducationField_Technical Degree',\n",
              "       'JobRole_Human Resources', 'JobRole_Laboratory Technician',\n",
              "       'JobRole_Manager', 'JobRole_Manufacturing Director',\n",
              "       'JobRole_Research Director', 'JobRole_Research Scientist',\n",
              "       'JobRole_Sales Executive', 'JobRole_Sales Representative',\n",
              "       'MaritalStatus_Married', 'MaritalStatus_Single'],\n",
              "      dtype='object')"
            ]
          },
          "metadata": {
            "tags": []
          },
          "execution_count": 53
        }
      ]
    },
    {
      "metadata": {
        "id": "8bBQxuZZN4lU",
        "colab_type": "code",
        "colab": {}
      },
      "cell_type": "code",
      "source": [
        "df_cat_oh.drop(['BusinessTravel', 'Education', 'EnvironmentSatisfaction', 'Gender',\n",
        "       'JobInvolvement', 'JobLevel', 'JobSatisfaction', 'OverTime',\n",
        "       'PerformanceRating', 'RelationshipSatisfaction', 'StockOptionLevel',\n",
        "       'WorkLifeBalance', 'Attrition'], axis=1, inplace=True)"
      ],
      "execution_count": 0,
      "outputs": []
    },
    {
      "metadata": {
        "id": "Hr8XbaTCOOip",
        "colab_type": "code",
        "colab": {
          "base_uri": "https://localhost:8080/",
          "height": 114
        },
        "outputId": "41132056-39ae-473d-d03c-f2668c302335"
      },
      "cell_type": "code",
      "source": [
        "df_cat_oh.head(1)"
      ],
      "execution_count": 55,
      "outputs": [
        {
          "output_type": "execute_result",
          "data": {
            "text/html": [
              "<div>\n",
              "<style scoped>\n",
              "    .dataframe tbody tr th:only-of-type {\n",
              "        vertical-align: middle;\n",
              "    }\n",
              "\n",
              "    .dataframe tbody tr th {\n",
              "        vertical-align: top;\n",
              "    }\n",
              "\n",
              "    .dataframe thead th {\n",
              "        text-align: right;\n",
              "    }\n",
              "</style>\n",
              "<table border=\"1\" class=\"dataframe\">\n",
              "  <thead>\n",
              "    <tr style=\"text-align: right;\">\n",
              "      <th></th>\n",
              "      <th>Department_Research &amp; Development</th>\n",
              "      <th>Department_Sales</th>\n",
              "      <th>EducationField_Life Sciences</th>\n",
              "      <th>EducationField_Marketing</th>\n",
              "      <th>EducationField_Medical</th>\n",
              "      <th>EducationField_Other</th>\n",
              "      <th>EducationField_Technical Degree</th>\n",
              "      <th>JobRole_Human Resources</th>\n",
              "      <th>JobRole_Laboratory Technician</th>\n",
              "      <th>JobRole_Manager</th>\n",
              "      <th>JobRole_Manufacturing Director</th>\n",
              "      <th>JobRole_Research Director</th>\n",
              "      <th>JobRole_Research Scientist</th>\n",
              "      <th>JobRole_Sales Executive</th>\n",
              "      <th>JobRole_Sales Representative</th>\n",
              "      <th>MaritalStatus_Married</th>\n",
              "      <th>MaritalStatus_Single</th>\n",
              "    </tr>\n",
              "  </thead>\n",
              "  <tbody>\n",
              "    <tr>\n",
              "      <th>0</th>\n",
              "      <td>0</td>\n",
              "      <td>1</td>\n",
              "      <td>1</td>\n",
              "      <td>0</td>\n",
              "      <td>0</td>\n",
              "      <td>0</td>\n",
              "      <td>0</td>\n",
              "      <td>0</td>\n",
              "      <td>0</td>\n",
              "      <td>0</td>\n",
              "      <td>0</td>\n",
              "      <td>0</td>\n",
              "      <td>0</td>\n",
              "      <td>1</td>\n",
              "      <td>0</td>\n",
              "      <td>0</td>\n",
              "      <td>1</td>\n",
              "    </tr>\n",
              "  </tbody>\n",
              "</table>\n",
              "</div>"
            ],
            "text/plain": [
              "   Department_Research & Development  Department_Sales  \\\n",
              "0                                  0                 1   \n",
              "\n",
              "   EducationField_Life Sciences  EducationField_Marketing  \\\n",
              "0                             1                         0   \n",
              "\n",
              "   EducationField_Medical  EducationField_Other  \\\n",
              "0                       0                     0   \n",
              "\n",
              "   EducationField_Technical Degree  JobRole_Human Resources  \\\n",
              "0                                0                        0   \n",
              "\n",
              "   JobRole_Laboratory Technician  JobRole_Manager  \\\n",
              "0                              0                0   \n",
              "\n",
              "   JobRole_Manufacturing Director  JobRole_Research Director  \\\n",
              "0                               0                          0   \n",
              "\n",
              "   JobRole_Research Scientist  JobRole_Sales Executive  \\\n",
              "0                           0                        1   \n",
              "\n",
              "   JobRole_Sales Representative  MaritalStatus_Married  MaritalStatus_Single  \n",
              "0                             0                      0                     1  "
            ]
          },
          "metadata": {
            "tags": []
          },
          "execution_count": 55
        }
      ]
    },
    {
      "metadata": {
        "id": "nELJUdUNPbGM",
        "colab_type": "code",
        "colab": {
          "base_uri": "https://localhost:8080/",
          "height": 118
        },
        "outputId": "9a0cd8aa-fd45-4e29-ecd1-5347d271c7a9"
      },
      "cell_type": "code",
      "source": [
        "df_cat.columns"
      ],
      "execution_count": 56,
      "outputs": [
        {
          "output_type": "execute_result",
          "data": {
            "text/plain": [
              "Index(['BusinessTravel', 'Department', 'Education', 'EducationField',\n",
              "       'EnvironmentSatisfaction', 'Gender', 'JobInvolvement', 'JobLevel',\n",
              "       'JobRole', 'JobSatisfaction', 'MaritalStatus', 'OverTime',\n",
              "       'PerformanceRating', 'RelationshipSatisfaction', 'StockOptionLevel',\n",
              "       'WorkLifeBalance', 'Attrition'],\n",
              "      dtype='object')"
            ]
          },
          "metadata": {
            "tags": []
          },
          "execution_count": 56
        }
      ]
    },
    {
      "metadata": {
        "id": "8lriTetCPNkh",
        "colab_type": "code",
        "colab": {}
      },
      "cell_type": "code",
      "source": [
        "df_cat.drop(['Department', 'EducationField', 'JobRole', 'MaritalStatus', 'Gender', 'OverTime'], axis=1, inplace=True)"
      ],
      "execution_count": 0,
      "outputs": []
    },
    {
      "metadata": {
        "id": "1EiGAY8IPnPg",
        "colab_type": "code",
        "colab": {
          "base_uri": "https://localhost:8080/",
          "height": 97
        },
        "outputId": "cace068b-527f-41e1-8747-60c494e2fcc3"
      },
      "cell_type": "code",
      "source": [
        "df_cat.head(1)"
      ],
      "execution_count": 59,
      "outputs": [
        {
          "output_type": "execute_result",
          "data": {
            "text/html": [
              "<div>\n",
              "<style scoped>\n",
              "    .dataframe tbody tr th:only-of-type {\n",
              "        vertical-align: middle;\n",
              "    }\n",
              "\n",
              "    .dataframe tbody tr th {\n",
              "        vertical-align: top;\n",
              "    }\n",
              "\n",
              "    .dataframe thead th {\n",
              "        text-align: right;\n",
              "    }\n",
              "</style>\n",
              "<table border=\"1\" class=\"dataframe\">\n",
              "  <thead>\n",
              "    <tr style=\"text-align: right;\">\n",
              "      <th></th>\n",
              "      <th>BusinessTravel</th>\n",
              "      <th>Education</th>\n",
              "      <th>EnvironmentSatisfaction</th>\n",
              "      <th>JobInvolvement</th>\n",
              "      <th>JobLevel</th>\n",
              "      <th>JobSatisfaction</th>\n",
              "      <th>PerformanceRating</th>\n",
              "      <th>RelationshipSatisfaction</th>\n",
              "      <th>StockOptionLevel</th>\n",
              "      <th>WorkLifeBalance</th>\n",
              "      <th>Attrition</th>\n",
              "    </tr>\n",
              "  </thead>\n",
              "  <tbody>\n",
              "    <tr>\n",
              "      <th>0</th>\n",
              "      <td>1</td>\n",
              "      <td>2</td>\n",
              "      <td>2</td>\n",
              "      <td>3</td>\n",
              "      <td>2</td>\n",
              "      <td>4</td>\n",
              "      <td>3</td>\n",
              "      <td>1</td>\n",
              "      <td>0</td>\n",
              "      <td>1</td>\n",
              "      <td>Yes</td>\n",
              "    </tr>\n",
              "  </tbody>\n",
              "</table>\n",
              "</div>"
            ],
            "text/plain": [
              "   BusinessTravel  Education  EnvironmentSatisfaction  JobInvolvement  \\\n",
              "0               1          2                        2               3   \n",
              "\n",
              "   JobLevel  JobSatisfaction  PerformanceRating  RelationshipSatisfaction  \\\n",
              "0         2                4                  3                         1   \n",
              "\n",
              "   StockOptionLevel  WorkLifeBalance Attrition  \n",
              "0                 0                1       Yes  "
            ]
          },
          "metadata": {
            "tags": []
          },
          "execution_count": 59
        }
      ]
    },
    {
      "metadata": {
        "id": "q6pGKI20QdtJ",
        "colab_type": "code",
        "colab": {
          "base_uri": "https://localhost:8080/",
          "height": 50
        },
        "outputId": "1b4258df-1f9c-4fe0-c467-53b82421184a"
      },
      "cell_type": "code",
      "source": [
        "df_cat.iloc[:,-1].head(1)"
      ],
      "execution_count": 65,
      "outputs": [
        {
          "output_type": "execute_result",
          "data": {
            "text/plain": [
              "0    Yes\n",
              "Name: Attrition, dtype: object"
            ]
          },
          "metadata": {
            "tags": []
          },
          "execution_count": 65
        }
      ]
    },
    {
      "metadata": {
        "id": "pXa4MG2yPouw",
        "colab_type": "code",
        "colab": {}
      },
      "cell_type": "code",
      "source": [
        "df_cat_final = pd.concat([df_cat.iloc[:,:-1], df_cat_enc, df_cat_oh, df_cat.iloc[:,-1]], axis=1)"
      ],
      "execution_count": 0,
      "outputs": []
    },
    {
      "metadata": {
        "id": "8rdHj6J7Qz6R",
        "colab_type": "code",
        "colab": {
          "base_uri": "https://localhost:8080/",
          "height": 114
        },
        "outputId": "35d86536-3297-463f-d1aa-ac024a6aa974"
      },
      "cell_type": "code",
      "source": [
        "df_cat_final.head(1)"
      ],
      "execution_count": 72,
      "outputs": [
        {
          "output_type": "execute_result",
          "data": {
            "text/html": [
              "<div>\n",
              "<style scoped>\n",
              "    .dataframe tbody tr th:only-of-type {\n",
              "        vertical-align: middle;\n",
              "    }\n",
              "\n",
              "    .dataframe tbody tr th {\n",
              "        vertical-align: top;\n",
              "    }\n",
              "\n",
              "    .dataframe thead th {\n",
              "        text-align: right;\n",
              "    }\n",
              "</style>\n",
              "<table border=\"1\" class=\"dataframe\">\n",
              "  <thead>\n",
              "    <tr style=\"text-align: right;\">\n",
              "      <th></th>\n",
              "      <th>BusinessTravel</th>\n",
              "      <th>Education</th>\n",
              "      <th>EnvironmentSatisfaction</th>\n",
              "      <th>JobInvolvement</th>\n",
              "      <th>JobLevel</th>\n",
              "      <th>JobSatisfaction</th>\n",
              "      <th>PerformanceRating</th>\n",
              "      <th>RelationshipSatisfaction</th>\n",
              "      <th>StockOptionLevel</th>\n",
              "      <th>WorkLifeBalance</th>\n",
              "      <th>Gender</th>\n",
              "      <th>OverTime</th>\n",
              "      <th>Department_Research &amp; Development</th>\n",
              "      <th>Department_Sales</th>\n",
              "      <th>EducationField_Life Sciences</th>\n",
              "      <th>EducationField_Marketing</th>\n",
              "      <th>EducationField_Medical</th>\n",
              "      <th>EducationField_Other</th>\n",
              "      <th>EducationField_Technical Degree</th>\n",
              "      <th>JobRole_Human Resources</th>\n",
              "      <th>JobRole_Laboratory Technician</th>\n",
              "      <th>JobRole_Manager</th>\n",
              "      <th>JobRole_Manufacturing Director</th>\n",
              "      <th>JobRole_Research Director</th>\n",
              "      <th>JobRole_Research Scientist</th>\n",
              "      <th>JobRole_Sales Executive</th>\n",
              "      <th>JobRole_Sales Representative</th>\n",
              "      <th>MaritalStatus_Married</th>\n",
              "      <th>MaritalStatus_Single</th>\n",
              "      <th>Attrition</th>\n",
              "    </tr>\n",
              "  </thead>\n",
              "  <tbody>\n",
              "    <tr>\n",
              "      <th>0</th>\n",
              "      <td>1</td>\n",
              "      <td>2</td>\n",
              "      <td>2</td>\n",
              "      <td>3</td>\n",
              "      <td>2</td>\n",
              "      <td>4</td>\n",
              "      <td>3</td>\n",
              "      <td>1</td>\n",
              "      <td>0</td>\n",
              "      <td>1</td>\n",
              "      <td>0</td>\n",
              "      <td>1</td>\n",
              "      <td>0</td>\n",
              "      <td>1</td>\n",
              "      <td>1</td>\n",
              "      <td>0</td>\n",
              "      <td>0</td>\n",
              "      <td>0</td>\n",
              "      <td>0</td>\n",
              "      <td>0</td>\n",
              "      <td>0</td>\n",
              "      <td>0</td>\n",
              "      <td>0</td>\n",
              "      <td>0</td>\n",
              "      <td>0</td>\n",
              "      <td>1</td>\n",
              "      <td>0</td>\n",
              "      <td>0</td>\n",
              "      <td>1</td>\n",
              "      <td>1</td>\n",
              "    </tr>\n",
              "  </tbody>\n",
              "</table>\n",
              "</div>"
            ],
            "text/plain": [
              "   BusinessTravel  Education  EnvironmentSatisfaction  JobInvolvement  \\\n",
              "0               1          2                        2               3   \n",
              "\n",
              "   JobLevel  JobSatisfaction  PerformanceRating  RelationshipSatisfaction  \\\n",
              "0         2                4                  3                         1   \n",
              "\n",
              "   StockOptionLevel  WorkLifeBalance  Gender  OverTime  \\\n",
              "0                 0                1       0         1   \n",
              "\n",
              "   Department_Research & Development  Department_Sales  \\\n",
              "0                                  0                 1   \n",
              "\n",
              "   EducationField_Life Sciences  EducationField_Marketing  \\\n",
              "0                             1                         0   \n",
              "\n",
              "   EducationField_Medical  EducationField_Other  \\\n",
              "0                       0                     0   \n",
              "\n",
              "   EducationField_Technical Degree  JobRole_Human Resources  \\\n",
              "0                                0                        0   \n",
              "\n",
              "   JobRole_Laboratory Technician  JobRole_Manager  \\\n",
              "0                              0                0   \n",
              "\n",
              "   JobRole_Manufacturing Director  JobRole_Research Director  \\\n",
              "0                               0                          0   \n",
              "\n",
              "   JobRole_Research Scientist  JobRole_Sales Executive  \\\n",
              "0                           0                        1   \n",
              "\n",
              "   JobRole_Sales Representative  MaritalStatus_Married  MaritalStatus_Single  \\\n",
              "0                             0                      0                     1   \n",
              "\n",
              "   Attrition  \n",
              "0          1  "
            ]
          },
          "metadata": {
            "tags": []
          },
          "execution_count": 72
        }
      ]
    },
    {
      "metadata": {
        "id": "wK0A13dcQ6WS",
        "colab_type": "code",
        "colab": {}
      },
      "cell_type": "code",
      "source": [
        "df_cat_final['Attrition'].replace(to_replace=['Yes', 'No'], value=[1, 0], inplace=True)"
      ],
      "execution_count": 0,
      "outputs": []
    },
    {
      "metadata": {
        "id": "8a-W7o9fRbBR",
        "colab_type": "code",
        "colab": {
          "base_uri": "https://localhost:8080/",
          "height": 114
        },
        "outputId": "dd11b027-5616-41d7-e8ec-67dfbd8ab6b1"
      },
      "cell_type": "code",
      "source": [
        "df_cat_final.head(1)"
      ],
      "execution_count": 73,
      "outputs": [
        {
          "output_type": "execute_result",
          "data": {
            "text/html": [
              "<div>\n",
              "<style scoped>\n",
              "    .dataframe tbody tr th:only-of-type {\n",
              "        vertical-align: middle;\n",
              "    }\n",
              "\n",
              "    .dataframe tbody tr th {\n",
              "        vertical-align: top;\n",
              "    }\n",
              "\n",
              "    .dataframe thead th {\n",
              "        text-align: right;\n",
              "    }\n",
              "</style>\n",
              "<table border=\"1\" class=\"dataframe\">\n",
              "  <thead>\n",
              "    <tr style=\"text-align: right;\">\n",
              "      <th></th>\n",
              "      <th>BusinessTravel</th>\n",
              "      <th>Education</th>\n",
              "      <th>EnvironmentSatisfaction</th>\n",
              "      <th>JobInvolvement</th>\n",
              "      <th>JobLevel</th>\n",
              "      <th>JobSatisfaction</th>\n",
              "      <th>PerformanceRating</th>\n",
              "      <th>RelationshipSatisfaction</th>\n",
              "      <th>StockOptionLevel</th>\n",
              "      <th>WorkLifeBalance</th>\n",
              "      <th>Gender</th>\n",
              "      <th>OverTime</th>\n",
              "      <th>Department_Research &amp; Development</th>\n",
              "      <th>Department_Sales</th>\n",
              "      <th>EducationField_Life Sciences</th>\n",
              "      <th>EducationField_Marketing</th>\n",
              "      <th>EducationField_Medical</th>\n",
              "      <th>EducationField_Other</th>\n",
              "      <th>EducationField_Technical Degree</th>\n",
              "      <th>JobRole_Human Resources</th>\n",
              "      <th>JobRole_Laboratory Technician</th>\n",
              "      <th>JobRole_Manager</th>\n",
              "      <th>JobRole_Manufacturing Director</th>\n",
              "      <th>JobRole_Research Director</th>\n",
              "      <th>JobRole_Research Scientist</th>\n",
              "      <th>JobRole_Sales Executive</th>\n",
              "      <th>JobRole_Sales Representative</th>\n",
              "      <th>MaritalStatus_Married</th>\n",
              "      <th>MaritalStatus_Single</th>\n",
              "      <th>Attrition</th>\n",
              "    </tr>\n",
              "  </thead>\n",
              "  <tbody>\n",
              "    <tr>\n",
              "      <th>0</th>\n",
              "      <td>1</td>\n",
              "      <td>2</td>\n",
              "      <td>2</td>\n",
              "      <td>3</td>\n",
              "      <td>2</td>\n",
              "      <td>4</td>\n",
              "      <td>3</td>\n",
              "      <td>1</td>\n",
              "      <td>0</td>\n",
              "      <td>1</td>\n",
              "      <td>0</td>\n",
              "      <td>1</td>\n",
              "      <td>0</td>\n",
              "      <td>1</td>\n",
              "      <td>1</td>\n",
              "      <td>0</td>\n",
              "      <td>0</td>\n",
              "      <td>0</td>\n",
              "      <td>0</td>\n",
              "      <td>0</td>\n",
              "      <td>0</td>\n",
              "      <td>0</td>\n",
              "      <td>0</td>\n",
              "      <td>0</td>\n",
              "      <td>0</td>\n",
              "      <td>1</td>\n",
              "      <td>0</td>\n",
              "      <td>0</td>\n",
              "      <td>1</td>\n",
              "      <td>1</td>\n",
              "    </tr>\n",
              "  </tbody>\n",
              "</table>\n",
              "</div>"
            ],
            "text/plain": [
              "   BusinessTravel  Education  EnvironmentSatisfaction  JobInvolvement  \\\n",
              "0               1          2                        2               3   \n",
              "\n",
              "   JobLevel  JobSatisfaction  PerformanceRating  RelationshipSatisfaction  \\\n",
              "0         2                4                  3                         1   \n",
              "\n",
              "   StockOptionLevel  WorkLifeBalance  Gender  OverTime  \\\n",
              "0                 0                1       0         1   \n",
              "\n",
              "   Department_Research & Development  Department_Sales  \\\n",
              "0                                  0                 1   \n",
              "\n",
              "   EducationField_Life Sciences  EducationField_Marketing  \\\n",
              "0                             1                         0   \n",
              "\n",
              "   EducationField_Medical  EducationField_Other  \\\n",
              "0                       0                     0   \n",
              "\n",
              "   EducationField_Technical Degree  JobRole_Human Resources  \\\n",
              "0                                0                        0   \n",
              "\n",
              "   JobRole_Laboratory Technician  JobRole_Manager  \\\n",
              "0                              0                0   \n",
              "\n",
              "   JobRole_Manufacturing Director  JobRole_Research Director  \\\n",
              "0                               0                          0   \n",
              "\n",
              "   JobRole_Research Scientist  JobRole_Sales Executive  \\\n",
              "0                           0                        1   \n",
              "\n",
              "   JobRole_Sales Representative  MaritalStatus_Married  MaritalStatus_Single  \\\n",
              "0                             0                      0                     1   \n",
              "\n",
              "   Attrition  \n",
              "0          1  "
            ]
          },
          "metadata": {
            "tags": []
          },
          "execution_count": 73
        }
      ]
    },
    {
      "metadata": {
        "id": "hO9oL_g1TN6f",
        "colab_type": "text"
      },
      "cell_type": "markdown",
      "source": [
        "# Numerical Variables:"
      ]
    },
    {
      "metadata": {
        "id": "AnR__8j1TA_G",
        "colab_type": "code",
        "colab": {
          "base_uri": "https://localhost:8080/",
          "height": 97
        },
        "outputId": "68c04cbc-c70e-4641-d865-2b0724630fe4"
      },
      "cell_type": "code",
      "source": [
        "df_num.head(1)"
      ],
      "execution_count": 75,
      "outputs": [
        {
          "output_type": "execute_result",
          "data": {
            "text/html": [
              "<div>\n",
              "<style scoped>\n",
              "    .dataframe tbody tr th:only-of-type {\n",
              "        vertical-align: middle;\n",
              "    }\n",
              "\n",
              "    .dataframe tbody tr th {\n",
              "        vertical-align: top;\n",
              "    }\n",
              "\n",
              "    .dataframe thead th {\n",
              "        text-align: right;\n",
              "    }\n",
              "</style>\n",
              "<table border=\"1\" class=\"dataframe\">\n",
              "  <thead>\n",
              "    <tr style=\"text-align: right;\">\n",
              "      <th></th>\n",
              "      <th>Age</th>\n",
              "      <th>DailyRate</th>\n",
              "      <th>DistanceFromHome</th>\n",
              "      <th>HourlyRate</th>\n",
              "      <th>MonthlyIncome</th>\n",
              "      <th>MonthlyRate</th>\n",
              "      <th>NumCompaniesWorked</th>\n",
              "      <th>PercentSalaryHike</th>\n",
              "      <th>TotalWorkingYears</th>\n",
              "      <th>TrainingTimesLastYear</th>\n",
              "      <th>YearsAtCompany</th>\n",
              "      <th>YearsInCurrentRole</th>\n",
              "      <th>YearsSinceLastPromotion</th>\n",
              "      <th>YearsWithCurrManager</th>\n",
              "    </tr>\n",
              "  </thead>\n",
              "  <tbody>\n",
              "    <tr>\n",
              "      <th>0</th>\n",
              "      <td>41</td>\n",
              "      <td>1102</td>\n",
              "      <td>1</td>\n",
              "      <td>94</td>\n",
              "      <td>5993</td>\n",
              "      <td>19479</td>\n",
              "      <td>8</td>\n",
              "      <td>11</td>\n",
              "      <td>8</td>\n",
              "      <td>0</td>\n",
              "      <td>6</td>\n",
              "      <td>4</td>\n",
              "      <td>0</td>\n",
              "      <td>5</td>\n",
              "    </tr>\n",
              "  </tbody>\n",
              "</table>\n",
              "</div>"
            ],
            "text/plain": [
              "   Age  DailyRate  DistanceFromHome  HourlyRate  MonthlyIncome  MonthlyRate  \\\n",
              "0   41       1102                 1          94           5993        19479   \n",
              "\n",
              "   NumCompaniesWorked  PercentSalaryHike  TotalWorkingYears  \\\n",
              "0                   8                 11                  8   \n",
              "\n",
              "   TrainingTimesLastYear  YearsAtCompany  YearsInCurrentRole  \\\n",
              "0                      0               6                   4   \n",
              "\n",
              "   YearsSinceLastPromotion  YearsWithCurrManager  \n",
              "0                        0                     5  "
            ]
          },
          "metadata": {
            "tags": []
          },
          "execution_count": 75
        }
      ]
    },
    {
      "metadata": {
        "id": "zKkncJxaTT45",
        "colab_type": "code",
        "colab": {}
      },
      "cell_type": "code",
      "source": [
        ""
      ],
      "execution_count": 0,
      "outputs": []
    },
    {
      "metadata": {
        "id": "kjfeYvXAY0op",
        "colab_type": "code",
        "colab": {}
      },
      "cell_type": "code",
      "source": [
        ""
      ],
      "execution_count": 0,
      "outputs": []
    }
  ]
}